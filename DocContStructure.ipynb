{
 "cells": [
  {
   "cell_type": "markdown",
   "metadata": {},
   "source": [
    "### How to read paragraphs AND tables"
   ]
  },
  {
   "cell_type": "markdown",
   "metadata": {},
   "source": [
    "[Github Refernce](https://github.com/python-openxml/python-docx/issues/276)"
   ]
  },
  {
   "cell_type": "code",
   "execution_count": 1,
   "metadata": {},
   "outputs": [],
   "source": [
    "from docx.document import Document as _Document\n",
    "from docx.api import Document\n",
    "from docx.oxml.table import CT_Tbl\n",
    "from docx.oxml.text.paragraph import CT_P\n",
    "from docx.table import _Cell, Table\n",
    "from docx.text.paragraph import Paragraph\n",
    "\n",
    "def iter_block_items(parent):\n",
    "    \"\"\"\n",
    "    Yield each paragraph and table child within *parent*, in document order.\n",
    "    Each returned value is an instance of either Table or Paragraph. *parent*\n",
    "    would most commonly be a reference to a main Document object, but\n",
    "    also works for a _Cell object, which itself can contain paragraphs and tables.\n",
    "    \"\"\"\n",
    "    if isinstance(parent, _Document):\n",
    "        parent_elm = parent.element.body\n",
    "    elif isinstance(parent, _Cell):\n",
    "        parent_elm = parent._tc\n",
    "    else:\n",
    "        raise ValueError(\"something's not right\")\n",
    "\n",
    "    for child in parent_elm.iterchildren():\n",
    "        if isinstance(child, CT_P):\n",
    "            yield Paragraph(child, parent)\n",
    "        elif isinstance(child, CT_Tbl):\n",
    "            yield Table(child, parent)"
   ]
  },
  {
   "cell_type": "code",
   "execution_count": 3,
   "metadata": {},
   "outputs": [
    {
     "name": "stdout",
     "output_type": "stream",
     "text": [
      "_ParagraphStyle('Title') id: 2402111756832\n",
      "Document Title\n",
      "_ParagraphStyle('Normal') id: 2402111755992\n",
      "A plain paragraph with some bold and some italic\n",
      "_ParagraphStyle('Heading 1') id: 2402111755656\n",
      "Heading, level 1\n",
      "_ParagraphStyle('Intense Quote') id: 2402111755992\n",
      "Intense quote\n",
      "_ParagraphStyle('List Bullet') id: 2402111755936\n",
      "first item in unordered list\n",
      "_ParagraphStyle('List Number') id: 2402111756104\n",
      "first item in ordered list\n",
      "_ParagraphStyle('List Number') id: 2402111755768\n",
      "Line 2 in list\n",
      "_ParagraphStyle('List Number') id: 2402111755656\n",
      "\n",
      "_ParagraphStyle('List Number') id: 2402111755992\n",
      "\n",
      "_ParagraphStyle('Heading 2') id: 2402111675920\n",
      "Heading 2 test \n",
      "_ParagraphStyle('Normal') id: 2402111756216\n",
      "\n",
      "_ParagraphStyle('Heading 2') id: 2402111754872\n",
      "Heading 2 teste 3\n",
      "_ParagraphStyle('Normal') id: 2402111755936\n",
      "\n",
      "_ParagraphStyle('Heading 4') id: 2402111756104\n",
      "Heading 4 test \n",
      "_ParagraphStyle('Normal') id: 2402111755656\n",
      "\n",
      "\n",
      "_ParagraphStyle('Normal') id: 2402111756216\n",
      "Table page\n",
      "A\tB\tC\n",
      "Aa\tBb\tCc\n",
      "Aaa\tBbb\tCcc\n",
      "_ParagraphStyle('Normal') id: 2402111755824\n",
      "\n",
      "_ParagraphStyle('Normal') id: 2402111756552\n",
      "\n",
      "_ParagraphStyle('Normal') id: 2402111755992\n",
      "Table footer\n"
     ]
    }
   ],
   "source": [
    "doc = Document('test/demo.docx')\n",
    "#doc = docx.Document('test.docx')\n",
    "for block in iter_block_items(doc):\n",
    "    if isinstance(block, Paragraph):\n",
    "        print(block.style)\n",
    "        print(block.text)\n",
    "    elif isinstance(block, Table):\n",
    "        for row in block.rows:\n",
    "            row_data = []\n",
    "            for cell in row.cells:\n",
    "                for paragraph in cell.paragraphs:\n",
    "                    row_data.append(paragraph.text)\n",
    "            print(\"\\t\".join(row_data))"
   ]
  },
  {
   "cell_type": "code",
   "execution_count": null,
   "metadata": {},
   "outputs": [],
   "source": []
  }
 ],
 "metadata": {
  "kernelspec": {
   "display_name": "Python 3",
   "language": "python",
   "name": "python3"
  },
  "language_info": {
   "codemirror_mode": {
    "name": "ipython",
    "version": 3
   },
   "file_extension": ".py",
   "mimetype": "text/x-python",
   "name": "python",
   "nbconvert_exporter": "python",
   "pygments_lexer": "ipython3",
   "version": "3.6.5"
  }
 },
 "nbformat": 4,
 "nbformat_minor": 2
}
