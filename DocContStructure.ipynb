{
 "cells": [
  {
   "cell_type": "markdown",
   "metadata": {},
   "source": [
    "### How to read paragraphs AND tables"
   ]
  },
  {
   "cell_type": "markdown",
   "metadata": {},
   "source": [
    "[Github Refernce](https://github.com/python-openxml/python-docx/issues/276)"
   ]
  },
  {
   "cell_type": "code",
   "execution_count": 1,
   "metadata": {},
   "outputs": [],
   "source": [
    "from docx.document import Document as _Document\n",
    "from docx.api import Document\n",
    "from docx.oxml.table import CT_Tbl\n",
    "from docx.oxml.text.paragraph import CT_P\n",
    "from docx.table import _Cell, Table\n",
    "from docx.text.paragraph import Paragraph\n",
    "\n",
    "def iter_block_items(parent):\n",
    "    \"\"\"\n",
    "    Yield each paragraph and table child within *parent*, in document order.\n",
    "    Each returned value is an instance of either Table or Paragraph. *parent*\n",
    "    would most commonly be a reference to a main Document object, but\n",
    "    also works for a _Cell object, which itself can contain paragraphs and tables.\n",
    "    \"\"\"\n",
    "    if isinstance(parent, _Document):\n",
    "        parent_elm = parent.element.body\n",
    "    elif isinstance(parent, _Cell):\n",
    "        parent_elm = parent._tc\n",
    "    else:\n",
    "        raise ValueError(\"something's not right\")\n",
    "\n",
    "    for child in parent_elm.iterchildren():\n",
    "        if isinstance(child, CT_P):\n",
    "            yield Paragraph(child, parent)\n",
    "        elif isinstance(child, CT_Tbl):\n",
    "            yield Table(child, parent)"
   ]
  },
  {
   "cell_type": "code",
   "execution_count": 6,
   "metadata": {},
   "outputs": [
    {
     "name": "stdout",
     "output_type": "stream",
     "text": [
      "Title\n",
      "Document Title\n",
      "Normal\n",
      "A plain paragraph with some bold and some italic\n",
      "Heading 1\n",
      "Heading, level 1\n",
      "Intense Quote\n",
      "Intense quote\n",
      "List Bullet\n",
      "first item in unordered list\n",
      "List Number\n",
      "first item in ordered list\n",
      "List Number\n",
      "Line 2 in list\n",
      "List Number\n",
      "\n",
      "List Number\n",
      "\n",
      "Heading 2\n",
      "Heading 2 test \n",
      "Normal\n",
      "\n",
      "Heading 2\n",
      "Heading 2 teste 3\n",
      "Normal\n",
      "\n",
      "Heading 4\n",
      "Heading 4 test \n",
      "Normal\n",
      "\n",
      "\n",
      "Normal\n",
      "Table page\n",
      "A\tB\tC\n",
      "Aa\tBb\tCc\n",
      "Aaa\tBbb\tCcc\n",
      "Normal\n",
      "\n",
      "Normal\n",
      "\n",
      "Normal\n",
      "Table footer\n"
     ]
    }
   ],
   "source": [
    "doc = Document('test/demo.docx')\n",
    "#doc = docx.Document('test.docx')\n",
    "for block in iter_block_items(doc):\n",
    "    if isinstance(block, Paragraph):\n",
    "        print(block.style.name)\n",
    "        print(block.text)\n",
    "    elif isinstance(block, Table):\n",
    "        for row in block.rows:\n",
    "            row_data = []\n",
    "            for cell in row.cells:\n",
    "                for paragraph in cell.paragraphs:\n",
    "                    row_data.append(paragraph.text)\n",
    "            print(\"\\t\".join(row_data))"
   ]
  },
  {
   "cell_type": "code",
   "execution_count": null,
   "metadata": {},
   "outputs": [],
   "source": []
  }
 ],
 "metadata": {
  "kernelspec": {
   "display_name": "Python 3",
   "language": "python",
   "name": "python3"
  },
  "language_info": {
   "codemirror_mode": {
    "name": "ipython",
    "version": 3
   },
   "file_extension": ".py",
   "mimetype": "text/x-python",
   "name": "python",
   "nbconvert_exporter": "python",
   "pygments_lexer": "ipython3",
   "version": "3.6.5"
  }
 },
 "nbformat": 4,
 "nbformat_minor": 2
}
