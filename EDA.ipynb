{
 "cells": [
  {
   "cell_type": "markdown",
   "metadata": {},
   "source": [
    "# Premodeling\n",
    "\n",
    "## Univariate Analysis"
   ]
  },
  {
   "cell_type": "code",
   "execution_count": 14,
   "metadata": {},
   "outputs": [],
   "source": [
    "data(Prestige  , package='carData')"
   ]
  },
  {
   "cell_type": "code",
   "execution_count": 15,
   "metadata": {},
   "outputs": [
    {
     "data": {
      "text/html": [
       "<table>\n",
       "<thead><tr><th></th><th scope=col>education</th><th scope=col>income</th><th scope=col>women</th><th scope=col>prestige</th><th scope=col>census</th><th scope=col>type</th></tr></thead>\n",
       "<tbody>\n",
       "\t<tr><th scope=row>gov.administrators</th><td>13.11</td><td>12351</td><td>11.16</td><td>68.8 </td><td>1113 </td><td>prof </td></tr>\n",
       "\t<tr><th scope=row>general.managers</th><td>12.26</td><td>25879</td><td> 4.02</td><td>69.1 </td><td>1130 </td><td>prof </td></tr>\n",
       "\t<tr><th scope=row>accountants</th><td>12.77</td><td> 9271</td><td>15.70</td><td>63.4 </td><td>1171 </td><td>prof </td></tr>\n",
       "\t<tr><th scope=row>purchasing.officers</th><td>11.42</td><td> 8865</td><td> 9.11</td><td>56.8 </td><td>1175 </td><td>prof </td></tr>\n",
       "\t<tr><th scope=row>chemists</th><td>14.62</td><td> 8403</td><td>11.68</td><td>73.5 </td><td>2111 </td><td>prof </td></tr>\n",
       "\t<tr><th scope=row>physicists</th><td>15.64</td><td>11030</td><td> 5.13</td><td>77.6 </td><td>2113 </td><td>prof </td></tr>\n",
       "</tbody>\n",
       "</table>\n"
      ],
      "text/latex": [
       "\\begin{tabular}{r|llllll}\n",
       "  & education & income & women & prestige & census & type\\\\\n",
       "\\hline\n",
       "\tgov.administrators & 13.11 & 12351 & 11.16 & 68.8  & 1113  & prof \\\\\n",
       "\tgeneral.managers & 12.26 & 25879 &  4.02 & 69.1  & 1130  & prof \\\\\n",
       "\taccountants & 12.77 &  9271 & 15.70 & 63.4  & 1171  & prof \\\\\n",
       "\tpurchasing.officers & 11.42 &  8865 &  9.11 & 56.8  & 1175  & prof \\\\\n",
       "\tchemists & 14.62 &  8403 & 11.68 & 73.5  & 2111  & prof \\\\\n",
       "\tphysicists & 15.64 & 11030 &  5.13 & 77.6  & 2113  & prof \\\\\n",
       "\\end{tabular}\n"
      ],
      "text/markdown": [
       "\n",
       "| <!--/--> | education | income | women | prestige | census | type | \n",
       "|---|---|---|---|---|---|\n",
       "| gov.administrators | 13.11 | 12351 | 11.16 | 68.8  | 1113  | prof  | \n",
       "| general.managers | 12.26 | 25879 |  4.02 | 69.1  | 1130  | prof  | \n",
       "| accountants | 12.77 |  9271 | 15.70 | 63.4  | 1171  | prof  | \n",
       "| purchasing.officers | 11.42 |  8865 |  9.11 | 56.8  | 1175  | prof  | \n",
       "| chemists | 14.62 |  8403 | 11.68 | 73.5  | 2111  | prof  | \n",
       "| physicists | 15.64 | 11030 |  5.13 | 77.6  | 2113  | prof  | \n",
       "\n",
       "\n"
      ],
      "text/plain": [
       "                    education income women prestige census type\n",
       "gov.administrators  13.11     12351  11.16 68.8     1113   prof\n",
       "general.managers    12.26     25879   4.02 69.1     1130   prof\n",
       "accountants         12.77      9271  15.70 63.4     1171   prof\n",
       "purchasing.officers 11.42      8865   9.11 56.8     1175   prof\n",
       "chemists            14.62      8403  11.68 73.5     2111   prof\n",
       "physicists          15.64     11030   5.13 77.6     2113   prof"
      ]
     },
     "metadata": {},
     "output_type": "display_data"
    }
   ],
   "source": [
    "head(Prestige)"
   ]
  },
  {
   "cell_type": "code",
   "execution_count": 18,
   "metadata": {},
   "outputs": [
    {
     "data": {
      "text/html": [
       "6797.90196078431"
      ],
      "text/latex": [
       "6797.90196078431"
      ],
      "text/markdown": [
       "6797.90196078431"
      ],
      "text/plain": [
       "[1] 6797.902"
      ]
     },
     "metadata": {},
     "output_type": "display_data"
    },
    {
     "data": {
      "text/html": [
       "4245.92222663694"
      ],
      "text/latex": [
       "4245.92222663694"
      ],
      "text/markdown": [
       "4245.92222663694"
      ],
      "text/plain": [
       "[1] 4245.922"
      ]
     },
     "metadata": {},
     "output_type": "display_data"
    },
    {
     "data": {
      "text/html": [
       "18027855.5546496"
      ],
      "text/latex": [
       "18027855.5546496"
      ],
      "text/markdown": [
       "18027855.5546496"
      ],
      "text/plain": [
       "[1] 18027856"
      ]
     },
     "metadata": {},
     "output_type": "display_data"
    },
    {
     "data": {
      "text/html": [
       "<dl class=dl-horizontal>\n",
       "\t<dt>1%</dt>\n",
       "\t\t<dd>925.38</dd>\n",
       "\t<dt>5%</dt>\n",
       "\t\t<dd>2455.3</dd>\n",
       "\t<dt>10%</dt>\n",
       "\t\t<dd>3026</dd>\n",
       "\t<dt>25%</dt>\n",
       "\t\t<dd>4106</dd>\n",
       "\t<dt>50%</dt>\n",
       "\t\t<dd>5930.5</dd>\n",
       "\t<dt>75%</dt>\n",
       "\t\t<dd>8187.25</dd>\n",
       "\t<dt>90%</dt>\n",
       "\t\t<dd>11029.3</dd>\n",
       "\t<dt>95%</dt>\n",
       "\t\t<dd>14156.45</dd>\n",
       "\t<dt>99%</dt>\n",
       "\t\t<dd>25247.55</dd>\n",
       "</dl>\n"
      ],
      "text/latex": [
       "\\begin{description*}\n",
       "\\item[1\\textbackslash{}\\%] 925.38\n",
       "\\item[5\\textbackslash{}\\%] 2455.3\n",
       "\\item[10\\textbackslash{}\\%] 3026\n",
       "\\item[25\\textbackslash{}\\%] 4106\n",
       "\\item[50\\textbackslash{}\\%] 5930.5\n",
       "\\item[75\\textbackslash{}\\%] 8187.25\n",
       "\\item[90\\textbackslash{}\\%] 11029.3\n",
       "\\item[95\\textbackslash{}\\%] 14156.45\n",
       "\\item[99\\textbackslash{}\\%] 25247.55\n",
       "\\end{description*}\n"
      ],
      "text/markdown": [
       "1%\n",
       ":   925.385%\n",
       ":   2455.310%\n",
       ":   302625%\n",
       ":   410650%\n",
       ":   5930.575%\n",
       ":   8187.2590%\n",
       ":   11029.395%\n",
       ":   14156.4599%\n",
       ":   25247.55\n",
       "\n"
      ],
      "text/plain": [
       "      1%       5%      10%      25%      50%      75%      90%      95% \n",
       "  925.38  2455.30  3026.00  4106.00  5930.50  8187.25 11029.30 14156.45 \n",
       "     99% \n",
       "25247.55 "
      ]
     },
     "metadata": {},
     "output_type": "display_data"
    }
   ],
   "source": [
    "#Always best to add na in calculating summary\n",
    "mean(Prestige$income, na.rm = T)\n",
    "sd(Prestige$income, na.rm = T)\n",
    "var(Prestige$income, na.rm = T)\n",
    "quantile(Prestige$income,probs = c(0.01,0.05,0.1,0.25,0.5,0.75,0.9,0.95,0.99), na.rm = T)"
   ]
  },
  {
   "cell_type": "code",
   "execution_count": 20,
   "metadata": {},
   "outputs": [
    {
     "data": {
      "text/plain": [
       "   education          income          women           prestige    \n",
       " Min.   : 6.380   Min.   :  611   Min.   : 0.000   Min.   :14.80  \n",
       " 1st Qu.: 8.445   1st Qu.: 4106   1st Qu.: 3.592   1st Qu.:35.23  \n",
       " Median :10.540   Median : 5930   Median :13.600   Median :43.60  \n",
       " Mean   :10.738   Mean   : 6798   Mean   :28.979   Mean   :46.83  \n",
       " 3rd Qu.:12.648   3rd Qu.: 8187   3rd Qu.:52.203   3rd Qu.:59.27  \n",
       " Max.   :15.970   Max.   :25879   Max.   :97.510   Max.   :87.20  \n",
       "     census       type   \n",
       " Min.   :1113   bc  :44  \n",
       " 1st Qu.:3120   prof:31  \n",
       " Median :5135   wc  :23  \n",
       " Mean   :5402   NA's: 4  \n",
       " 3rd Qu.:8312            \n",
       " Max.   :9517            "
      ]
     },
     "metadata": {},
     "output_type": "display_data"
    },
    {
     "data": {
      "text/plain": [
       "Prestige \n",
       "\n",
       " 6  Variables      102  Observations\n",
       "--------------------------------------------------------------------------------\n",
       "education \n",
       "       n  missing distinct     Info     Mean      Gmd      .05      .10 \n",
       "     102        0       96        1    10.74    3.136    6.844    7.522 \n",
       "     .25      .50      .75      .90      .95 \n",
       "   8.445   10.540   12.648   14.703   15.429 \n",
       "\n",
       "lowest :  6.38  6.60  6.67  6.69  6.74, highest: 15.64 15.77 15.94 15.96 15.97\n",
       "--------------------------------------------------------------------------------\n",
       "income \n",
       "       n  missing distinct     Info     Mean      Gmd      .05      .10 \n",
       "     102        0      100        1     6798     4167     2455     3026 \n",
       "     .25      .50      .75      .90      .95 \n",
       "    4106     5930     8187    11029    14156 \n",
       "\n",
       "lowest :   611   918  1656  1890  2370, highest: 14558 17498 19263 25308 25879\n",
       "--------------------------------------------------------------------------------\n",
       "women \n",
       "       n  missing distinct     Info     Mean      Gmd      .05      .10 \n",
       "     102        0       96        1    28.98    33.98    0.522    0.783 \n",
       "     .25      .50      .75      .90      .95 \n",
       "   3.592   13.600   52.203   82.104   92.805 \n",
       "\n",
       "lowest :  0.00  0.52  0.56  0.58  0.61, highest: 95.97 96.12 96.14 96.53 97.51\n",
       "--------------------------------------------------------------------------------\n",
       "prestige \n",
       "       n  missing distinct     Info     Mean      Gmd      .05      .10 \n",
       "     102        0       92        1    46.83    19.72    21.59    25.92 \n",
       "     .25      .50      .75      .90      .95 \n",
       "   35.23    43.60    59.28    71.82    74.83 \n",
       "\n",
       "lowest : 14.8 17.3 20.1 20.2 20.8, highest: 77.6 78.1 82.3 84.6 87.2\n",
       "--------------------------------------------------------------------------------\n",
       "census \n",
       "       n  missing distinct     Info     Mean      Gmd      .05      .10 \n",
       "     102        0      101        1     5402     3023     2114     2161 \n",
       "     .25      .50      .75      .90      .95 \n",
       "    3120     5135     8312     8782     9130 \n",
       "\n",
       "lowest : 1113 1130 1171 1175 2111, highest: 9171 9173 9313 9511 9517\n",
       "--------------------------------------------------------------------------------\n",
       "type \n",
       "       n  missing distinct \n",
       "      98        4        3 \n",
       "                            \n",
       "Value         bc  prof    wc\n",
       "Frequency     44    31    23\n",
       "Proportion 0.449 0.316 0.235\n",
       "--------------------------------------------------------------------------------"
      ]
     },
     "metadata": {},
     "output_type": "display_data"
    }
   ],
   "source": [
    "summary(Prestige)\n",
    "library(Hmisc)\n",
    "Hmisc::describe(Prestige)"
   ]
  },
  {
   "cell_type": "code",
   "execution_count": 23,
   "metadata": {},
   "outputs": [
    {
     "data": {
      "text/html": [
       "<table>\n",
       "<thead><tr><th></th><th scope=col>education</th><th scope=col>income</th><th scope=col>women</th><th scope=col>prestige</th><th scope=col>census</th><th scope=col>type</th></tr></thead>\n",
       "<tbody>\n",
       "\t<tr><th scope=row>nbr.val</th><td> 102.0000000</td><td>1.020000e+02</td><td> 102.000000 </td><td> 102.0000000</td><td>1.020000e+02</td><td>NA          </td></tr>\n",
       "\t<tr><th scope=row>nbr.null</th><td>   0.0000000</td><td>0.000000e+00</td><td>   5.000000 </td><td>   0.0000000</td><td>0.000000e+00</td><td>NA          </td></tr>\n",
       "\t<tr><th scope=row>nbr.na</th><td>   0.0000000</td><td>0.000000e+00</td><td>   0.000000 </td><td>   0.0000000</td><td>0.000000e+00</td><td>NA          </td></tr>\n",
       "\t<tr><th scope=row>min</th><td>   6.3800000</td><td>6.110000e+02</td><td>   0.000000 </td><td>  14.8000000</td><td>1.113000e+03</td><td>NA          </td></tr>\n",
       "\t<tr><th scope=row>max</th><td>  15.9700000</td><td>2.587900e+04</td><td>  97.510000 </td><td>  87.2000000</td><td>9.517000e+03</td><td>NA          </td></tr>\n",
       "\t<tr><th scope=row>range</th><td>   9.5900000</td><td>2.526800e+04</td><td>  97.510000 </td><td>  72.4000000</td><td>8.404000e+03</td><td>NA          </td></tr>\n",
       "\t<tr><th scope=row>sum</th><td>1095.2800000</td><td>6.933860e+05</td><td>2955.860000 </td><td>4777.0000000</td><td>5.509810e+05</td><td>NA          </td></tr>\n",
       "\t<tr><th scope=row>median</th><td>  10.5400000</td><td>5.930500e+03</td><td>  13.600000 </td><td>  43.6000000</td><td>5.135000e+03</td><td>NA          </td></tr>\n",
       "\t<tr><th scope=row>mean</th><td>  10.7380392</td><td>6.797902e+03</td><td>  28.979020 </td><td>  46.8333333</td><td>5.401775e+03</td><td>NA          </td></tr>\n",
       "\t<tr><th scope=row>SE.mean</th><td>   0.2701562</td><td>4.204089e+02</td><td>   3.141236 </td><td>   1.7034979</td><td>2.618934e+02</td><td>NA          </td></tr>\n",
       "\t<tr><th scope=row>CI.mean.0.95</th><td>   0.5359173</td><td>8.339783e+02</td><td>   6.231368 </td><td>   3.3792816</td><td>5.195260e+02</td><td>NA          </td></tr>\n",
       "\t<tr><th scope=row>var</th><td>   7.4444080</td><td>1.802786e+07</td><td>1006.471223 </td><td> 295.9943234</td><td>6.995989e+06</td><td>NA          </td></tr>\n",
       "\t<tr><th scope=row>std.dev</th><td>   2.7284442</td><td>4.245922e+03</td><td>  31.724931 </td><td>  17.2044856</td><td>2.644993e+03</td><td>NA          </td></tr>\n",
       "\t<tr><th scope=row>coef.var</th><td>   0.2540915</td><td>6.245930e-01</td><td>   1.094755 </td><td>   0.3673556</td><td>4.896527e-01</td><td>NA          </td></tr>\n",
       "</tbody>\n",
       "</table>\n"
      ],
      "text/latex": [
       "\\begin{tabular}{r|llllll}\n",
       "  & education & income & women & prestige & census & type\\\\\n",
       "\\hline\n",
       "\tnbr.val &  102.0000000 & 1.020000e+02 &  102.000000  &  102.0000000 & 1.020000e+02 & NA          \\\\\n",
       "\tnbr.null &    0.0000000 & 0.000000e+00 &    5.000000  &    0.0000000 & 0.000000e+00 & NA          \\\\\n",
       "\tnbr.na &    0.0000000 & 0.000000e+00 &    0.000000  &    0.0000000 & 0.000000e+00 & NA          \\\\\n",
       "\tmin &    6.3800000 & 6.110000e+02 &    0.000000  &   14.8000000 & 1.113000e+03 & NA          \\\\\n",
       "\tmax &   15.9700000 & 2.587900e+04 &   97.510000  &   87.2000000 & 9.517000e+03 & NA          \\\\\n",
       "\trange &    9.5900000 & 2.526800e+04 &   97.510000  &   72.4000000 & 8.404000e+03 & NA          \\\\\n",
       "\tsum & 1095.2800000 & 6.933860e+05 & 2955.860000  & 4777.0000000 & 5.509810e+05 & NA          \\\\\n",
       "\tmedian &   10.5400000 & 5.930500e+03 &   13.600000  &   43.6000000 & 5.135000e+03 & NA          \\\\\n",
       "\tmean &   10.7380392 & 6.797902e+03 &   28.979020  &   46.8333333 & 5.401775e+03 & NA          \\\\\n",
       "\tSE.mean &    0.2701562 & 4.204089e+02 &    3.141236  &    1.7034979 & 2.618934e+02 & NA          \\\\\n",
       "\tCI.mean.0.95 &    0.5359173 & 8.339783e+02 &    6.231368  &    3.3792816 & 5.195260e+02 & NA          \\\\\n",
       "\tvar &    7.4444080 & 1.802786e+07 & 1006.471223  &  295.9943234 & 6.995989e+06 & NA          \\\\\n",
       "\tstd.dev &    2.7284442 & 4.245922e+03 &   31.724931  &   17.2044856 & 2.644993e+03 & NA          \\\\\n",
       "\tcoef.var &    0.2540915 & 6.245930e-01 &    1.094755  &    0.3673556 & 4.896527e-01 & NA          \\\\\n",
       "\\end{tabular}\n"
      ],
      "text/markdown": [
       "\n",
       "| <!--/--> | education | income | women | prestige | census | type | \n",
       "|---|---|---|---|---|---|---|---|---|---|---|---|---|---|\n",
       "| nbr.val |  102.0000000 | 1.020000e+02 |  102.000000  |  102.0000000 | 1.020000e+02 | NA           | \n",
       "| nbr.null |    0.0000000 | 0.000000e+00 |    5.000000  |    0.0000000 | 0.000000e+00 | NA           | \n",
       "| nbr.na |    0.0000000 | 0.000000e+00 |    0.000000  |    0.0000000 | 0.000000e+00 | NA           | \n",
       "| min |    6.3800000 | 6.110000e+02 |    0.000000  |   14.8000000 | 1.113000e+03 | NA           | \n",
       "| max |   15.9700000 | 2.587900e+04 |   97.510000  |   87.2000000 | 9.517000e+03 | NA           | \n",
       "| range |    9.5900000 | 2.526800e+04 |   97.510000  |   72.4000000 | 8.404000e+03 | NA           | \n",
       "| sum | 1095.2800000 | 6.933860e+05 | 2955.860000  | 4777.0000000 | 5.509810e+05 | NA           | \n",
       "| median |   10.5400000 | 5.930500e+03 |   13.600000  |   43.6000000 | 5.135000e+03 | NA           | \n",
       "| mean |   10.7380392 | 6.797902e+03 |   28.979020  |   46.8333333 | 5.401775e+03 | NA           | \n",
       "| SE.mean |    0.2701562 | 4.204089e+02 |    3.141236  |    1.7034979 | 2.618934e+02 | NA           | \n",
       "| CI.mean.0.95 |    0.5359173 | 8.339783e+02 |    6.231368  |    3.3792816 | 5.195260e+02 | NA           | \n",
       "| var |    7.4444080 | 1.802786e+07 | 1006.471223  |  295.9943234 | 6.995989e+06 | NA           | \n",
       "| std.dev |    2.7284442 | 4.245922e+03 |   31.724931  |   17.2044856 | 2.644993e+03 | NA           | \n",
       "| coef.var |    0.2540915 | 6.245930e-01 |    1.094755  |    0.3673556 | 4.896527e-01 | NA           | \n",
       "\n",
       "\n"
      ],
      "text/plain": [
       "             education    income       women       prestige     census      \n",
       "nbr.val       102.0000000 1.020000e+02  102.000000  102.0000000 1.020000e+02\n",
       "nbr.null        0.0000000 0.000000e+00    5.000000    0.0000000 0.000000e+00\n",
       "nbr.na          0.0000000 0.000000e+00    0.000000    0.0000000 0.000000e+00\n",
       "min             6.3800000 6.110000e+02    0.000000   14.8000000 1.113000e+03\n",
       "max            15.9700000 2.587900e+04   97.510000   87.2000000 9.517000e+03\n",
       "range           9.5900000 2.526800e+04   97.510000   72.4000000 8.404000e+03\n",
       "sum          1095.2800000 6.933860e+05 2955.860000 4777.0000000 5.509810e+05\n",
       "median         10.5400000 5.930500e+03   13.600000   43.6000000 5.135000e+03\n",
       "mean           10.7380392 6.797902e+03   28.979020   46.8333333 5.401775e+03\n",
       "SE.mean         0.2701562 4.204089e+02    3.141236    1.7034979 2.618934e+02\n",
       "CI.mean.0.95    0.5359173 8.339783e+02    6.231368    3.3792816 5.195260e+02\n",
       "var             7.4444080 1.802786e+07 1006.471223  295.9943234 6.995989e+06\n",
       "std.dev         2.7284442 4.245922e+03   31.724931   17.2044856 2.644993e+03\n",
       "coef.var        0.2540915 6.245930e-01    1.094755    0.3673556 4.896527e-01\n",
       "             type\n",
       "nbr.val      NA  \n",
       "nbr.null     NA  \n",
       "nbr.na       NA  \n",
       "min          NA  \n",
       "max          NA  \n",
       "range        NA  \n",
       "sum          NA  \n",
       "median       NA  \n",
       "mean         NA  \n",
       "SE.mean      NA  \n",
       "CI.mean.0.95 NA  \n",
       "var          NA  \n",
       "std.dev      NA  \n",
       "coef.var     NA  "
      ]
     },
     "metadata": {},
     "output_type": "display_data"
    }
   ],
   "source": [
    "pastecs::stat.desc(Prestige)"
   ]
  },
  {
   "cell_type": "markdown",
   "metadata": {},
   "source": [
    "coef.var : The coefficient of variation (CV) is a measure of relative variability. It is the ratio of the standard deviation to the mean (average). Multiplying the coefficient by 100 is an optional step to get a percentage, as opposed to a decimal."
   ]
  },
  {
   "cell_type": "code",
   "execution_count": 26,
   "metadata": {},
   "outputs": [
    {
     "data": {
      "text/html": [
       "<table>\n",
       "<thead><tr><th></th><th scope=col>Manufacturer</th><th scope=col>Model</th><th scope=col>Type</th><th scope=col>Min.Price</th><th scope=col>Price</th><th scope=col>Max.Price</th><th scope=col>MPG.city</th><th scope=col>MPG.highway</th><th scope=col>AirBags</th><th scope=col>DriveTrain</th><th scope=col>...</th><th scope=col>Passengers</th><th scope=col>Length</th><th scope=col>Wheelbase</th><th scope=col>Width</th><th scope=col>Turn.circle</th><th scope=col>Rear.seat.room</th><th scope=col>Luggage.room</th><th scope=col>Weight</th><th scope=col>Origin</th><th scope=col>Make</th></tr></thead>\n",
       "<tbody>\n",
       "\t<tr><th scope=row>nbr.val</th><td>NA          </td><td>NA          </td><td>NA          </td><td>  93.000000 </td><td>  93.0000000</td><td>  93.0000000</td><td>  93.0000000</td><td>  93.0000000</td><td>NA          </td><td>NA          </td><td>...         </td><td> 93.0000000 </td><td>9.300000e+01</td><td>  93.0000000</td><td>9.300000e+01</td><td>9.300000e+01</td><td>  91.0000000</td><td>  82.0000000</td><td>9.300000e+01</td><td>NA          </td><td>NA          </td></tr>\n",
       "\t<tr><th scope=row>nbr.null</th><td>NA          </td><td>NA          </td><td>NA          </td><td>   0.000000 </td><td>   0.0000000</td><td>   0.0000000</td><td>   0.0000000</td><td>   0.0000000</td><td>NA          </td><td>NA          </td><td>...         </td><td>  0.0000000 </td><td>0.000000e+00</td><td>   0.0000000</td><td>0.000000e+00</td><td>0.000000e+00</td><td>   0.0000000</td><td>   0.0000000</td><td>0.000000e+00</td><td>NA          </td><td>NA          </td></tr>\n",
       "\t<tr><th scope=row>nbr.na</th><td>NA          </td><td>NA          </td><td>NA          </td><td>   0.000000 </td><td>   0.0000000</td><td>   0.0000000</td><td>   0.0000000</td><td>   0.0000000</td><td>NA          </td><td>NA          </td><td>...         </td><td>  0.0000000 </td><td>0.000000e+00</td><td>   0.0000000</td><td>0.000000e+00</td><td>0.000000e+00</td><td>   2.0000000</td><td>  11.0000000</td><td>0.000000e+00</td><td>NA          </td><td>NA          </td></tr>\n",
       "\t<tr><th scope=row>min</th><td>NA          </td><td>NA          </td><td>NA          </td><td>   6.700000 </td><td>   7.4000000</td><td>   7.9000000</td><td>  15.0000000</td><td>  20.0000000</td><td>NA          </td><td>NA          </td><td>...         </td><td>  2.0000000 </td><td>1.410000e+02</td><td>  90.0000000</td><td>6.000000e+01</td><td>3.200000e+01</td><td>  19.0000000</td><td>   6.0000000</td><td>1.695000e+03</td><td>NA          </td><td>NA          </td></tr>\n",
       "\t<tr><th scope=row>max</th><td>NA          </td><td>NA          </td><td>NA          </td><td>  45.400000 </td><td>  61.9000000</td><td>  80.0000000</td><td>  46.0000000</td><td>  50.0000000</td><td>NA          </td><td>NA          </td><td>...         </td><td>  8.0000000 </td><td>2.190000e+02</td><td> 119.0000000</td><td>7.800000e+01</td><td>4.500000e+01</td><td>  36.0000000</td><td>  22.0000000</td><td>4.105000e+03</td><td>NA          </td><td>NA          </td></tr>\n",
       "\t<tr><th scope=row>range</th><td>NA          </td><td>NA          </td><td>NA          </td><td>  38.700000 </td><td>  54.5000000</td><td>  72.1000000</td><td>  31.0000000</td><td>  30.0000000</td><td>NA          </td><td>NA          </td><td>...         </td><td>  6.0000000 </td><td>7.800000e+01</td><td>  29.0000000</td><td>1.800000e+01</td><td>1.300000e+01</td><td>  17.0000000</td><td>  16.0000000</td><td>2.410000e+03</td><td>NA          </td><td>NA          </td></tr>\n",
       "\t<tr><th scope=row>sum</th><td>NA          </td><td>NA          </td><td>NA          </td><td>1592.700000 </td><td>1814.4000000</td><td>2036.6000000</td><td>2080.0000000</td><td>2705.0000000</td><td>NA          </td><td>NA          </td><td>...         </td><td>473.0000000 </td><td>1.703800e+04</td><td>9667.0000000</td><td>6.452000e+03</td><td>3.623000e+03</td><td>2532.5000000</td><td>1139.0000000</td><td>2.857800e+05</td><td>NA          </td><td>NA          </td></tr>\n",
       "\t<tr><th scope=row>median</th><td>NA          </td><td>NA          </td><td>NA          </td><td>  14.700000 </td><td>  17.7000000</td><td>  19.6000000</td><td>  21.0000000</td><td>  28.0000000</td><td>NA          </td><td>NA          </td><td>...         </td><td>  5.0000000 </td><td>1.830000e+02</td><td> 103.0000000</td><td>6.900000e+01</td><td>3.900000e+01</td><td>  27.5000000</td><td>  14.0000000</td><td>3.040000e+03</td><td>NA          </td><td>NA          </td></tr>\n",
       "\t<tr><th scope=row>mean</th><td>NA          </td><td>NA          </td><td>NA          </td><td>  17.125806 </td><td>  19.5096774</td><td>  21.8989247</td><td>  22.3655914</td><td>  29.0860215</td><td>NA          </td><td>NA          </td><td>...         </td><td>  5.0860215 </td><td>1.832043e+02</td><td> 103.9462366</td><td>6.937634e+01</td><td>3.895699e+01</td><td>  27.8296703</td><td>  13.8902439</td><td>3.072903e+03</td><td>NA          </td><td>NA          </td></tr>\n",
       "\t<tr><th scope=row>SE.mean</th><td>NA          </td><td>NA          </td><td>NA          </td><td>   0.906921 </td><td>   1.0016362</td><td>   1.1438051</td><td>   0.5827473</td><td>   0.5528742</td><td>NA          </td><td>NA          </td><td>...         </td><td>  0.1077371 </td><td>1.514196e+00</td><td>   0.7071672</td><td>3.918626e-01</td><td>3.342370e-01</td><td>   0.3133399</td><td>   0.3310700</td><td>6.116942e+01</td><td>NA          </td><td>NA          </td></tr>\n",
       "\t<tr><th scope=row>CI.mean</th><td>NA          </td><td>NA          </td><td>NA          </td><td>   1.801223 </td><td>   1.9893359</td><td>   2.2716956</td><td>   1.1573865</td><td>   1.0980560</td><td>NA          </td><td>NA          </td><td>...         </td><td>  0.2139751 </td><td>3.007325e+00</td><td>   1.4044951</td><td>7.782730e-01</td><td>6.638235e-01</td><td>   0.6225045</td><td>   0.6587255</td><td>1.214877e+02</td><td>NA          </td><td>NA          </td></tr>\n",
       "\t<tr><th scope=row>var</th><td>NA          </td><td>NA          </td><td>NA          </td><td>  76.493022 </td><td>  93.3045792</td><td> 121.6709771</td><td>  31.5822814</td><td>  28.4273025</td><td>NA          </td><td>NA          </td><td>...         </td><td>  1.0794764 </td><td>2.132295e+02</td><td>  46.5079476</td><td>1.428074e+01</td><td>1.038943e+01</td><td>   8.9345543</td><td>   8.9878049</td><td>3.479779e+05</td><td>NA          </td><td>NA          </td></tr>\n",
       "\t<tr><th scope=row>std.dev</th><td>NA          </td><td>NA          </td><td>NA          </td><td>   8.746029 </td><td>   9.6594296</td><td>  11.0304568</td><td>   5.6198115</td><td>   5.3317260</td><td>NA          </td><td>NA          </td><td>...         </td><td>  1.0389785 </td><td>1.460238e+01</td><td>   6.8196736</td><td>3.778986e+00</td><td>3.223265e+00</td><td>   2.9890725</td><td>   2.9979668</td><td>5.898965e+02</td><td>NA          </td><td>NA          </td></tr>\n",
       "\t<tr><th scope=row>coef.var</th><td>NA          </td><td>NA          </td><td>NA          </td><td>   0.510693 </td><td>   0.4951096</td><td>   0.5036986</td><td>   0.2512704</td><td>   0.1833089</td><td>NA          </td><td>NA          </td><td>...         </td><td>  0.2042812 </td><td>7.970545e-02</td><td>   0.0656077</td><td>5.447082e-02</td><td>8.273906e-02</td><td>   0.1074060</td><td>   0.2158326</td><td>1.919672e-01</td><td>NA          </td><td>NA          </td></tr>\n",
       "</tbody>\n",
       "</table>\n"
      ],
      "text/latex": [
       "\\begin{tabular}{r|lllllllllllllllllllllllllll}\n",
       "  & Manufacturer & Model & Type & Min.Price & Price & Max.Price & MPG.city & MPG.highway & AirBags & DriveTrain & ... & Passengers & Length & Wheelbase & Width & Turn.circle & Rear.seat.room & Luggage.room & Weight & Origin & Make\\\\\n",
       "\\hline\n",
       "\tnbr.val & NA           & NA           & NA           &   93.000000  &   93.0000000 &   93.0000000 &   93.0000000 &   93.0000000 & NA           & NA           & ...          &  93.0000000  & 9.300000e+01 &   93.0000000 & 9.300000e+01 & 9.300000e+01 &   91.0000000 &   82.0000000 & 9.300000e+01 & NA           & NA          \\\\\n",
       "\tnbr.null & NA           & NA           & NA           &    0.000000  &    0.0000000 &    0.0000000 &    0.0000000 &    0.0000000 & NA           & NA           & ...          &   0.0000000  & 0.000000e+00 &    0.0000000 & 0.000000e+00 & 0.000000e+00 &    0.0000000 &    0.0000000 & 0.000000e+00 & NA           & NA          \\\\\n",
       "\tnbr.na & NA           & NA           & NA           &    0.000000  &    0.0000000 &    0.0000000 &    0.0000000 &    0.0000000 & NA           & NA           & ...          &   0.0000000  & 0.000000e+00 &    0.0000000 & 0.000000e+00 & 0.000000e+00 &    2.0000000 &   11.0000000 & 0.000000e+00 & NA           & NA          \\\\\n",
       "\tmin & NA           & NA           & NA           &    6.700000  &    7.4000000 &    7.9000000 &   15.0000000 &   20.0000000 & NA           & NA           & ...          &   2.0000000  & 1.410000e+02 &   90.0000000 & 6.000000e+01 & 3.200000e+01 &   19.0000000 &    6.0000000 & 1.695000e+03 & NA           & NA          \\\\\n",
       "\tmax & NA           & NA           & NA           &   45.400000  &   61.9000000 &   80.0000000 &   46.0000000 &   50.0000000 & NA           & NA           & ...          &   8.0000000  & 2.190000e+02 &  119.0000000 & 7.800000e+01 & 4.500000e+01 &   36.0000000 &   22.0000000 & 4.105000e+03 & NA           & NA          \\\\\n",
       "\trange & NA           & NA           & NA           &   38.700000  &   54.5000000 &   72.1000000 &   31.0000000 &   30.0000000 & NA           & NA           & ...          &   6.0000000  & 7.800000e+01 &   29.0000000 & 1.800000e+01 & 1.300000e+01 &   17.0000000 &   16.0000000 & 2.410000e+03 & NA           & NA          \\\\\n",
       "\tsum & NA           & NA           & NA           & 1592.700000  & 1814.4000000 & 2036.6000000 & 2080.0000000 & 2705.0000000 & NA           & NA           & ...          & 473.0000000  & 1.703800e+04 & 9667.0000000 & 6.452000e+03 & 3.623000e+03 & 2532.5000000 & 1139.0000000 & 2.857800e+05 & NA           & NA          \\\\\n",
       "\tmedian & NA           & NA           & NA           &   14.700000  &   17.7000000 &   19.6000000 &   21.0000000 &   28.0000000 & NA           & NA           & ...          &   5.0000000  & 1.830000e+02 &  103.0000000 & 6.900000e+01 & 3.900000e+01 &   27.5000000 &   14.0000000 & 3.040000e+03 & NA           & NA          \\\\\n",
       "\tmean & NA           & NA           & NA           &   17.125806  &   19.5096774 &   21.8989247 &   22.3655914 &   29.0860215 & NA           & NA           & ...          &   5.0860215  & 1.832043e+02 &  103.9462366 & 6.937634e+01 & 3.895699e+01 &   27.8296703 &   13.8902439 & 3.072903e+03 & NA           & NA          \\\\\n",
       "\tSE.mean & NA           & NA           & NA           &    0.906921  &    1.0016362 &    1.1438051 &    0.5827473 &    0.5528742 & NA           & NA           & ...          &   0.1077371  & 1.514196e+00 &    0.7071672 & 3.918626e-01 & 3.342370e-01 &    0.3133399 &    0.3310700 & 6.116942e+01 & NA           & NA          \\\\\n",
       "\tCI.mean & NA           & NA           & NA           &    1.801223  &    1.9893359 &    2.2716956 &    1.1573865 &    1.0980560 & NA           & NA           & ...          &   0.2139751  & 3.007325e+00 &    1.4044951 & 7.782730e-01 & 6.638235e-01 &    0.6225045 &    0.6587255 & 1.214877e+02 & NA           & NA          \\\\\n",
       "\tvar & NA           & NA           & NA           &   76.493022  &   93.3045792 &  121.6709771 &   31.5822814 &   28.4273025 & NA           & NA           & ...          &   1.0794764  & 2.132295e+02 &   46.5079476 & 1.428074e+01 & 1.038943e+01 &    8.9345543 &    8.9878049 & 3.479779e+05 & NA           & NA          \\\\\n",
       "\tstd.dev & NA           & NA           & NA           &    8.746029  &    9.6594296 &   11.0304568 &    5.6198115 &    5.3317260 & NA           & NA           & ...          &   1.0389785  & 1.460238e+01 &    6.8196736 & 3.778986e+00 & 3.223265e+00 &    2.9890725 &    2.9979668 & 5.898965e+02 & NA           & NA          \\\\\n",
       "\tcoef.var & NA           & NA           & NA           &    0.510693  &    0.4951096 &    0.5036986 &    0.2512704 &    0.1833089 & NA           & NA           & ...          &   0.2042812  & 7.970545e-02 &    0.0656077 & 5.447082e-02 & 8.273906e-02 &    0.1074060 &    0.2158326 & 1.919672e-01 & NA           & NA          \\\\\n",
       "\\end{tabular}\n"
      ],
      "text/markdown": [
       "\n",
       "| <!--/--> | Manufacturer | Model | Type | Min.Price | Price | Max.Price | MPG.city | MPG.highway | AirBags | DriveTrain | ... | Passengers | Length | Wheelbase | Width | Turn.circle | Rear.seat.room | Luggage.room | Weight | Origin | Make | \n",
       "|---|---|---|---|---|---|---|---|---|---|---|---|---|---|\n",
       "| nbr.val | NA           | NA           | NA           |   93.000000  |   93.0000000 |   93.0000000 |   93.0000000 |   93.0000000 | NA           | NA           | ...          |  93.0000000  | 9.300000e+01 |   93.0000000 | 9.300000e+01 | 9.300000e+01 |   91.0000000 |   82.0000000 | 9.300000e+01 | NA           | NA           | \n",
       "| nbr.null | NA           | NA           | NA           |    0.000000  |    0.0000000 |    0.0000000 |    0.0000000 |    0.0000000 | NA           | NA           | ...          |   0.0000000  | 0.000000e+00 |    0.0000000 | 0.000000e+00 | 0.000000e+00 |    0.0000000 |    0.0000000 | 0.000000e+00 | NA           | NA           | \n",
       "| nbr.na | NA           | NA           | NA           |    0.000000  |    0.0000000 |    0.0000000 |    0.0000000 |    0.0000000 | NA           | NA           | ...          |   0.0000000  | 0.000000e+00 |    0.0000000 | 0.000000e+00 | 0.000000e+00 |    2.0000000 |   11.0000000 | 0.000000e+00 | NA           | NA           | \n",
       "| min | NA           | NA           | NA           |    6.700000  |    7.4000000 |    7.9000000 |   15.0000000 |   20.0000000 | NA           | NA           | ...          |   2.0000000  | 1.410000e+02 |   90.0000000 | 6.000000e+01 | 3.200000e+01 |   19.0000000 |    6.0000000 | 1.695000e+03 | NA           | NA           | \n",
       "| max | NA           | NA           | NA           |   45.400000  |   61.9000000 |   80.0000000 |   46.0000000 |   50.0000000 | NA           | NA           | ...          |   8.0000000  | 2.190000e+02 |  119.0000000 | 7.800000e+01 | 4.500000e+01 |   36.0000000 |   22.0000000 | 4.105000e+03 | NA           | NA           | \n",
       "| range | NA           | NA           | NA           |   38.700000  |   54.5000000 |   72.1000000 |   31.0000000 |   30.0000000 | NA           | NA           | ...          |   6.0000000  | 7.800000e+01 |   29.0000000 | 1.800000e+01 | 1.300000e+01 |   17.0000000 |   16.0000000 | 2.410000e+03 | NA           | NA           | \n",
       "| sum | NA           | NA           | NA           | 1592.700000  | 1814.4000000 | 2036.6000000 | 2080.0000000 | 2705.0000000 | NA           | NA           | ...          | 473.0000000  | 1.703800e+04 | 9667.0000000 | 6.452000e+03 | 3.623000e+03 | 2532.5000000 | 1139.0000000 | 2.857800e+05 | NA           | NA           | \n",
       "| median | NA           | NA           | NA           |   14.700000  |   17.7000000 |   19.6000000 |   21.0000000 |   28.0000000 | NA           | NA           | ...          |   5.0000000  | 1.830000e+02 |  103.0000000 | 6.900000e+01 | 3.900000e+01 |   27.5000000 |   14.0000000 | 3.040000e+03 | NA           | NA           | \n",
       "| mean | NA           | NA           | NA           |   17.125806  |   19.5096774 |   21.8989247 |   22.3655914 |   29.0860215 | NA           | NA           | ...          |   5.0860215  | 1.832043e+02 |  103.9462366 | 6.937634e+01 | 3.895699e+01 |   27.8296703 |   13.8902439 | 3.072903e+03 | NA           | NA           | \n",
       "| SE.mean | NA           | NA           | NA           |    0.906921  |    1.0016362 |    1.1438051 |    0.5827473 |    0.5528742 | NA           | NA           | ...          |   0.1077371  | 1.514196e+00 |    0.7071672 | 3.918626e-01 | 3.342370e-01 |    0.3133399 |    0.3310700 | 6.116942e+01 | NA           | NA           | \n",
       "| CI.mean | NA           | NA           | NA           |    1.801223  |    1.9893359 |    2.2716956 |    1.1573865 |    1.0980560 | NA           | NA           | ...          |   0.2139751  | 3.007325e+00 |    1.4044951 | 7.782730e-01 | 6.638235e-01 |    0.6225045 |    0.6587255 | 1.214877e+02 | NA           | NA           | \n",
       "| var | NA           | NA           | NA           |   76.493022  |   93.3045792 |  121.6709771 |   31.5822814 |   28.4273025 | NA           | NA           | ...          |   1.0794764  | 2.132295e+02 |   46.5079476 | 1.428074e+01 | 1.038943e+01 |    8.9345543 |    8.9878049 | 3.479779e+05 | NA           | NA           | \n",
       "| std.dev | NA           | NA           | NA           |    8.746029  |    9.6594296 |   11.0304568 |    5.6198115 |    5.3317260 | NA           | NA           | ...          |   1.0389785  | 1.460238e+01 |    6.8196736 | 3.778986e+00 | 3.223265e+00 |    2.9890725 |    2.9979668 | 5.898965e+02 | NA           | NA           | \n",
       "| coef.var | NA           | NA           | NA           |    0.510693  |    0.4951096 |    0.5036986 |    0.2512704 |    0.1833089 | NA           | NA           | ...          |   0.2042812  | 7.970545e-02 |    0.0656077 | 5.447082e-02 | 8.273906e-02 |    0.1074060 |    0.2158326 | 1.919672e-01 | NA           | NA           | \n",
       "\n",
       "\n"
      ],
      "text/plain": [
       "         Manufacturer Model Type Min.Price   Price        Max.Price   \n",
       "nbr.val  NA           NA    NA     93.000000   93.0000000   93.0000000\n",
       "nbr.null NA           NA    NA      0.000000    0.0000000    0.0000000\n",
       "nbr.na   NA           NA    NA      0.000000    0.0000000    0.0000000\n",
       "min      NA           NA    NA      6.700000    7.4000000    7.9000000\n",
       "max      NA           NA    NA     45.400000   61.9000000   80.0000000\n",
       "range    NA           NA    NA     38.700000   54.5000000   72.1000000\n",
       "sum      NA           NA    NA   1592.700000 1814.4000000 2036.6000000\n",
       "median   NA           NA    NA     14.700000   17.7000000   19.6000000\n",
       "mean     NA           NA    NA     17.125806   19.5096774   21.8989247\n",
       "SE.mean  NA           NA    NA      0.906921    1.0016362    1.1438051\n",
       "CI.mean  NA           NA    NA      1.801223    1.9893359    2.2716956\n",
       "var      NA           NA    NA     76.493022   93.3045792  121.6709771\n",
       "std.dev  NA           NA    NA      8.746029    9.6594296   11.0304568\n",
       "coef.var NA           NA    NA      0.510693    0.4951096    0.5036986\n",
       "         MPG.city     MPG.highway  AirBags DriveTrain ... Passengers \n",
       "nbr.val    93.0000000   93.0000000 NA      NA         ...  93.0000000\n",
       "nbr.null    0.0000000    0.0000000 NA      NA         ...   0.0000000\n",
       "nbr.na      0.0000000    0.0000000 NA      NA         ...   0.0000000\n",
       "min        15.0000000   20.0000000 NA      NA         ...   2.0000000\n",
       "max        46.0000000   50.0000000 NA      NA         ...   8.0000000\n",
       "range      31.0000000   30.0000000 NA      NA         ...   6.0000000\n",
       "sum      2080.0000000 2705.0000000 NA      NA         ... 473.0000000\n",
       "median     21.0000000   28.0000000 NA      NA         ...   5.0000000\n",
       "mean       22.3655914   29.0860215 NA      NA         ...   5.0860215\n",
       "SE.mean     0.5827473    0.5528742 NA      NA         ...   0.1077371\n",
       "CI.mean     1.1573865    1.0980560 NA      NA         ...   0.2139751\n",
       "var        31.5822814   28.4273025 NA      NA         ...   1.0794764\n",
       "std.dev     5.6198115    5.3317260 NA      NA         ...   1.0389785\n",
       "coef.var    0.2512704    0.1833089 NA      NA         ...   0.2042812\n",
       "         Length       Wheelbase    Width        Turn.circle  Rear.seat.room\n",
       "nbr.val  9.300000e+01   93.0000000 9.300000e+01 9.300000e+01   91.0000000  \n",
       "nbr.null 0.000000e+00    0.0000000 0.000000e+00 0.000000e+00    0.0000000  \n",
       "nbr.na   0.000000e+00    0.0000000 0.000000e+00 0.000000e+00    2.0000000  \n",
       "min      1.410000e+02   90.0000000 6.000000e+01 3.200000e+01   19.0000000  \n",
       "max      2.190000e+02  119.0000000 7.800000e+01 4.500000e+01   36.0000000  \n",
       "range    7.800000e+01   29.0000000 1.800000e+01 1.300000e+01   17.0000000  \n",
       "sum      1.703800e+04 9667.0000000 6.452000e+03 3.623000e+03 2532.5000000  \n",
       "median   1.830000e+02  103.0000000 6.900000e+01 3.900000e+01   27.5000000  \n",
       "mean     1.832043e+02  103.9462366 6.937634e+01 3.895699e+01   27.8296703  \n",
       "SE.mean  1.514196e+00    0.7071672 3.918626e-01 3.342370e-01    0.3133399  \n",
       "CI.mean  3.007325e+00    1.4044951 7.782730e-01 6.638235e-01    0.6225045  \n",
       "var      2.132295e+02   46.5079476 1.428074e+01 1.038943e+01    8.9345543  \n",
       "std.dev  1.460238e+01    6.8196736 3.778986e+00 3.223265e+00    2.9890725  \n",
       "coef.var 7.970545e-02    0.0656077 5.447082e-02 8.273906e-02    0.1074060  \n",
       "         Luggage.room Weight       Origin Make\n",
       "nbr.val    82.0000000 9.300000e+01 NA     NA  \n",
       "nbr.null    0.0000000 0.000000e+00 NA     NA  \n",
       "nbr.na     11.0000000 0.000000e+00 NA     NA  \n",
       "min         6.0000000 1.695000e+03 NA     NA  \n",
       "max        22.0000000 4.105000e+03 NA     NA  \n",
       "range      16.0000000 2.410000e+03 NA     NA  \n",
       "sum      1139.0000000 2.857800e+05 NA     NA  \n",
       "median     14.0000000 3.040000e+03 NA     NA  \n",
       "mean       13.8902439 3.072903e+03 NA     NA  \n",
       "SE.mean     0.3310700 6.116942e+01 NA     NA  \n",
       "CI.mean     0.6587255 1.214877e+02 NA     NA  \n",
       "var         8.9878049 3.479779e+05 NA     NA  \n",
       "std.dev     2.9979668 5.898965e+02 NA     NA  \n",
       "coef.var    0.2158326 1.919672e-01 NA     NA  "
      ]
     },
     "metadata": {},
     "output_type": "display_data"
    }
   ],
   "source": [
    "pastecs::stat.desc(MASS::Cars93)"
   ]
  },
  {
   "cell_type": "markdown",
   "metadata": {},
   "source": [
    "## Bivariate Analysis\n",
    "\n",
    "### Correlation, Chi-Sq Test, and ANOVA\n",
    "\n",
    "Bivariate analysis is the simultaneous analysis of two variables (attributes). It explores the concept of relationship between two variables, whether there exists an association and the strength of this association, or whether there are differences between two variables and the significance of these differences. (Establish the relationship is Statistically Significant or not)"
   ]
  },
  {
   "cell_type": "markdown",
   "metadata": {},
   "source": [
    "#### Case 1 : Continuous vs Continuous \n",
    "Pearson Correlation Coefficient "
   ]
  },
  {
   "cell_type": "code",
   "execution_count": 31,
   "metadata": {},
   "outputs": [
    {
     "data": {
      "text/html": [
       "0.577580227518608"
      ],
      "text/latex": [
       "0.577580227518608"
      ],
      "text/markdown": [
       "0.577580227518608"
      ],
      "text/plain": [
       "[1] 0.5775802"
      ]
     },
     "metadata": {},
     "output_type": "display_data"
    },
    {
     "data": {
      "text/plain": [
       "\n",
       "\tPearson's product-moment correlation\n",
       "\n",
       "data:  Prestige$education and Prestige$income\n",
       "t = 7.0753, df = 100, p-value = 2.079e-10\n",
       "alternative hypothesis: true correlation is not equal to 0\n",
       "95 percent confidence interval:\n",
       " 0.4315828 0.6940914\n",
       "sample estimates:\n",
       "      cor \n",
       "0.5775802 \n"
      ]
     },
     "metadata": {},
     "output_type": "display_data"
    },
    {
     "data": {
      "image/png": "[encoded data removed]",
      "text/plain": [
       "plot without title"
      ]
     },
     "metadata": {},
     "output_type": "display_data"
    }
   ],
   "source": [
    "cor(Prestige$education,Prestige$income)\n",
    "plot(Prestige$education,Prestige$income)\n",
    "cor.test(Prestige$education,Prestige$income)"
   ]
  },
  {
   "cell_type": "markdown",
   "metadata": {},
   "source": [
    "#### Case 2 : Continuous vs Continuous  ANOVA\n",
    "Analysis of variance (ANOVA) is a collection of statistical models and their associated estimation procedures (such as the \"variation\" among and between groups) used to analyze the differences among group means in a sample.\n",
    "\n",
    "- Null Hypothesis Ho : All Population means are equal\n",
    "- Alternate Hypothesis H1 : At least one population mean is different from rest.\n",
    "\n",
    "            F-Ratio = Mean Between Groups Sum of Squares/Mean Within Groups Sum of Squares\n",
    "            \n",
    "** F ratio tell the strength of realtionship. Variables with higher F ratio has greater explanotary power when used in predictive models "
   ]
  },
  {
   "cell_type": "code",
   "execution_count": 34,
   "metadata": {},
   "outputs": [
    {
     "data": {
      "text/plain": [
       "            Df    Sum Sq   Mean Sq F value   Pr(>F)    \n",
       "type         2 5.960e+08 297978078   24.87 2.06e-09 ***\n",
       "Residuals   95 1.138e+09  11980242                     \n",
       "---\n",
       "Signif. codes:  0 '***' 0.001 '**' 0.01 '*' 0.05 '.' 0.1 ' ' 1\n",
       "4 observations deleted due to missingness"
      ]
     },
     "metadata": {},
     "output_type": "display_data"
    },
    {
     "data": {
      "image/png": "[encoded data removed]",
      "text/plain": [
       "Plot with title \"Income vs Occupation Type\""
      ]
     },
     "metadata": {},
     "output_type": "display_data"
    }
   ],
   "source": [
    "boxplot(income~type , data = Prestige, \n",
    "       main=\"Income vs Occupation Type\",\n",
    "       ylab=\"Income\")\n",
    "anovamod<-aov(income~type, data = Prestige)\n",
    "summary(anovamod)\n",
    "# Mean Sq represents the variance of income between the groups of type variable ()\n",
    "# Mean square of residuals represents the variances within the groups of type varaible.\n",
    "# F statistics is the ratio of between groups and within groups\n",
    "# Pr(>F) based on the value we accept or reject the null hypothesis"
   ]
  },
  {
   "cell_type": "markdown",
   "metadata": {},
   "source": [
    "#### Case 3 : Categorical vs Categorical \n",
    "\n",
    "A chi square (X2) statistic is used to investigate whether distributions of categorical variables differ from one another.\n",
    "Higer the Chi-Square Statistics stronger the relationship \n"
   ]
  },
  {
   "cell_type": "code",
   "execution_count": 38,
   "metadata": {},
   "outputs": [
    {
     "data": {
      "text/plain": [
       "   \n",
       "    bc prof wc\n",
       "  1 14    0  9\n",
       "  2 13    5  7\n",
       "  3 12    7  6\n",
       "  4  5   19  1"
      ]
     },
     "metadata": {},
     "output_type": "display_data"
    },
    {
     "data": {
      "text/html": [
       "<table>\n",
       "<thead><tr><th></th><th scope=col>education</th><th scope=col>income</th><th scope=col>women</th><th scope=col>prestige</th><th scope=col>census</th><th scope=col>type</th><th scope=col>income_cat</th></tr></thead>\n",
       "<tbody>\n",
       "\t<tr><th scope=row>train.engineers</th><td> 8.49</td><td>8845 </td><td> 0.00</td><td>48.9 </td><td>9131 </td><td>bc   </td><td>4    </td></tr>\n",
       "\t<tr><th scope=row>bus.drivers</th><td> 7.58</td><td>5562 </td><td> 9.47</td><td>35.9 </td><td>9171 </td><td>bc   </td><td>2    </td></tr>\n",
       "\t<tr><th scope=row>taxi.drivers</th><td> 7.93</td><td>4224 </td><td> 3.59</td><td>25.1 </td><td>9173 </td><td>bc   </td><td>2    </td></tr>\n",
       "\t<tr><th scope=row>longshoremen</th><td> 8.37</td><td>4753 </td><td> 0.00</td><td>26.1 </td><td>9313 </td><td>bc   </td><td>2    </td></tr>\n",
       "\t<tr><th scope=row>typesetters</th><td>10.00</td><td>6462 </td><td>13.58</td><td>42.2 </td><td>9511 </td><td>bc   </td><td>3    </td></tr>\n",
       "\t<tr><th scope=row>bookbinders</th><td> 8.55</td><td>3617 </td><td>70.87</td><td>35.2 </td><td>9517 </td><td>bc   </td><td>1    </td></tr>\n",
       "</tbody>\n",
       "</table>\n"
      ],
      "text/latex": [
       "\\begin{tabular}{r|lllllll}\n",
       "  & education & income & women & prestige & census & type & income\\_cat\\\\\n",
       "\\hline\n",
       "\ttrain.engineers &  8.49 & 8845  &  0.00 & 48.9  & 9131  & bc    & 4    \\\\\n",
       "\tbus.drivers &  7.58 & 5562  &  9.47 & 35.9  & 9171  & bc    & 2    \\\\\n",
       "\ttaxi.drivers &  7.93 & 4224  &  3.59 & 25.1  & 9173  & bc    & 2    \\\\\n",
       "\tlongshoremen &  8.37 & 4753  &  0.00 & 26.1  & 9313  & bc    & 2    \\\\\n",
       "\ttypesetters & 10.00 & 6462  & 13.58 & 42.2  & 9511  & bc    & 3    \\\\\n",
       "\tbookbinders &  8.55 & 3617  & 70.87 & 35.2  & 9517  & bc    & 1    \\\\\n",
       "\\end{tabular}\n"
      ],
      "text/markdown": [
       "\n",
       "| <!--/--> | education | income | women | prestige | census | type | income_cat | \n",
       "|---|---|---|---|---|---|\n",
       "| train.engineers |  8.49 | 8845  |  0.00 | 48.9  | 9131  | bc    | 4     | \n",
       "| bus.drivers |  7.58 | 5562  |  9.47 | 35.9  | 9171  | bc    | 2     | \n",
       "| taxi.drivers |  7.93 | 4224  |  3.59 | 25.1  | 9173  | bc    | 2     | \n",
       "| longshoremen |  8.37 | 4753  |  0.00 | 26.1  | 9313  | bc    | 2     | \n",
       "| typesetters | 10.00 | 6462  | 13.58 | 42.2  | 9511  | bc    | 3     | \n",
       "| bookbinders |  8.55 | 3617  | 70.87 | 35.2  | 9517  | bc    | 1     | \n",
       "\n",
       "\n"
      ],
      "text/plain": [
       "                education income women prestige census type income_cat\n",
       "train.engineers  8.49     8845    0.00 48.9     9131   bc   4         \n",
       "bus.drivers      7.58     5562    9.47 35.9     9171   bc   2         \n",
       "taxi.drivers     7.93     4224    3.59 25.1     9173   bc   2         \n",
       "longshoremen     8.37     4753    0.00 26.1     9313   bc   2         \n",
       "typesetters     10.00     6462   13.58 42.2     9511   bc   3         \n",
       "bookbinders      8.55     3617   70.87 35.2     9517   bc   1         "
      ]
     },
     "metadata": {},
     "output_type": "display_data"
    }
   ],
   "source": [
    "# Making income variable catogerical using dplyr ntile funcation\n",
    "Prestige$income_cat<- dplyr::ntile(Prestige$income,4)\n",
    "table(Prestige$income_cat, Prestige$type)\n",
    "tail(Prestige)"
   ]
  },
  {
   "cell_type": "code",
   "execution_count": 39,
   "metadata": {},
   "outputs": [
    {
     "data": {
      "text/plain": [
       "\n",
       "\tPearson's Chi-squared test\n",
       "\n",
       "data:  Prestige$type and Prestige$income_cat\n",
       "X-squared = 35.762, df = 6, p-value = 3.066e-06\n"
      ]
     },
     "metadata": {},
     "output_type": "display_data"
    }
   ],
   "source": [
    "chisq.test(y=Prestige$income_cat, Prestige$type)"
   ]
  },
  {
   "cell_type": "markdown",
   "metadata": {},
   "source": [
    "#### Detecting and Treating Outlier\n",
    "\n",
    "General Rule: Points lie outside whisker are considered extreme value \n",
    "Outlier: Points lies out side 1.5 time the interquartile range "
   ]
  },
  {
   "cell_type": "code",
   "execution_count": 40,
   "metadata": {},
   "outputs": [
    {
     "data": {
      "text/html": [
       "<ol class=list-inline>\n",
       "\t<li>12351</li>\n",
       "\t<li>25879</li>\n",
       "\t<li>14163</li>\n",
       "\t<li>19263</li>\n",
       "\t<li>12480</li>\n",
       "\t<li>25308</li>\n",
       "\t<li>14558</li>\n",
       "\t<li>17498</li>\n",
       "\t<li>14032</li>\n",
       "</ol>\n"
      ],
      "text/latex": [
       "\\begin{enumerate*}\n",
       "\\item 12351\n",
       "\\item 25879\n",
       "\\item 14163\n",
       "\\item 19263\n",
       "\\item 12480\n",
       "\\item 25308\n",
       "\\item 14558\n",
       "\\item 17498\n",
       "\\item 14032\n",
       "\\end{enumerate*}\n"
      ],
      "text/markdown": [
       "1. 12351\n",
       "2. 25879\n",
       "3. 14163\n",
       "4. 19263\n",
       "5. 12480\n",
       "6. 25308\n",
       "7. 14558\n",
       "8. 17498\n",
       "9. 14032\n",
       "\n",
       "\n"
      ],
      "text/plain": [
       "[1] 12351 25879 14163 19263 12480 25308 14558 17498 14032"
      ]
     },
     "metadata": {},
     "output_type": "display_data"
    },
    {
     "data": {
      "text/html": [
       "<ol class=list-inline>\n",
       "\t<li>12351</li>\n",
       "\t<li>25879</li>\n",
       "\t<li>14163</li>\n",
       "\t<li>19263</li>\n",
       "\t<li>12480</li>\n",
       "\t<li>25308</li>\n",
       "\t<li>14558</li>\n",
       "\t<li>17498</li>\n",
       "\t<li>14032</li>\n",
       "</ol>\n"
      ],
      "text/latex": [
       "\\begin{enumerate*}\n",
       "\\item 12351\n",
       "\\item 25879\n",
       "\\item 14163\n",
       "\\item 19263\n",
       "\\item 12480\n",
       "\\item 25308\n",
       "\\item 14558\n",
       "\\item 17498\n",
       "\\item 14032\n",
       "\\end{enumerate*}\n"
      ],
      "text/markdown": [
       "1. 12351\n",
       "2. 25879\n",
       "3. 14163\n",
       "4. 19263\n",
       "5. 12480\n",
       "6. 25308\n",
       "7. 14558\n",
       "8. 17498\n",
       "9. 14032\n",
       "\n",
       "\n"
      ],
      "text/plain": [
       "[1] 12351 25879 14163 19263 12480 25308 14558 17498 14032"
      ]
     },
     "metadata": {},
     "output_type": "display_data"
    }
   ],
   "source": [
    "myVar<-Prestige$income\n",
    "#3 times IQR\n",
    "iqr<- IQR(myVar)\n",
    "myVar[myVar>3*iqr]\n",
    "\n",
    "# Outside 1.5 times the 75th %ile\n",
    "thirdQuartile <- quantile(myVar,0.75)\n",
    "myVar[myVar>(1.5*thirdQuartile)]"
   ]
  },
  {
   "cell_type": "markdown",
   "metadata": {},
   "source": [
    "- How to treat outliers if points are legitimate observation and not anomalous\n",
    "- Capping: When we cap the variable below 5 or 1 percentile and above 95 or 99 percentile"
   ]
  },
  {
   "cell_type": "code",
   "execution_count": 41,
   "metadata": {
    "collapsed": true
   },
   "outputs": [],
   "source": [
    "# We have replaces all the points above 95th percentile with the value at 95 %ile itself\n",
    "myVar[myVar>quantile(myVar,0.95)]<- quantile(myVar,0.95)\n",
    "myVar[myVar<quantile(myVar,0.05)]<- quantile(myVar,0.05)"
   ]
  },
  {
   "cell_type": "markdown",
   "metadata": {},
   "source": [
    "##### Missing Values\n",
    "- MCAR: Missing Completely at random\n",
    "- MNAR: Missing not at random"
   ]
  },
  {
   "cell_type": "code",
   "execution_count": 42,
   "metadata": {},
   "outputs": [
    {
     "data": {
      "text/html": [
       "<table>\n",
       "<thead><tr><th scope=col>education</th><th scope=col>income</th><th scope=col>women</th><th scope=col>prestige</th><th scope=col>census</th><th scope=col>type</th></tr></thead>\n",
       "<tbody>\n",
       "\t<tr><td>13.11</td><td>12351</td><td>11.16</td><td>68.8 </td><td>1113 </td><td>prof </td></tr>\n",
       "\t<tr><td>12.26</td><td>25879</td><td> 4.02</td><td>69.1 </td><td>1130 </td><td>prof </td></tr>\n",
       "\t<tr><td>12.77</td><td> 9271</td><td>15.70</td><td>63.4 </td><td>1171 </td><td>prof </td></tr>\n",
       "\t<tr><td>11.42</td><td>   NA</td><td> 9.11</td><td>56.8 </td><td>1175 </td><td>prof </td></tr>\n",
       "\t<tr><td>14.62</td><td> 8403</td><td>11.68</td><td>73.5 </td><td>2111 </td><td>prof </td></tr>\n",
       "\t<tr><td>15.64</td><td>11030</td><td> 5.13</td><td>77.6 </td><td>2113 </td><td>NA   </td></tr>\n",
       "</tbody>\n",
       "</table>\n"
      ],
      "text/latex": [
       "\\begin{tabular}{r|llllll}\n",
       " education & income & women & prestige & census & type\\\\\n",
       "\\hline\n",
       "\t 13.11 & 12351 & 11.16 & 68.8  & 1113  & prof \\\\\n",
       "\t 12.26 & 25879 &  4.02 & 69.1  & 1130  & prof \\\\\n",
       "\t 12.77 &  9271 & 15.70 & 63.4  & 1171  & prof \\\\\n",
       "\t 11.42 &    NA &  9.11 & 56.8  & 1175  & prof \\\\\n",
       "\t 14.62 &  8403 & 11.68 & 73.5  & 2111  & prof \\\\\n",
       "\t 15.64 & 11030 &  5.13 & 77.6  & 2113  & NA   \\\\\n",
       "\\end{tabular}\n"
      ],
      "text/markdown": [
       "\n",
       "education | income | women | prestige | census | type | \n",
       "|---|---|---|---|---|---|\n",
       "| 13.11 | 12351 | 11.16 | 68.8  | 1113  | prof  | \n",
       "| 12.26 | 25879 |  4.02 | 69.1  | 1130  | prof  | \n",
       "| 12.77 |  9271 | 15.70 | 63.4  | 1171  | prof  | \n",
       "| 11.42 |    NA |  9.11 | 56.8  | 1175  | prof  | \n",
       "| 14.62 |  8403 | 11.68 | 73.5  | 2111  | prof  | \n",
       "| 15.64 | 11030 |  5.13 | 77.6  | 2113  | NA    | \n",
       "\n",
       "\n"
      ],
      "text/plain": [
       "  education income women prestige census type\n",
       "1 13.11     12351  11.16 68.8     1113   prof\n",
       "2 12.26     25879   4.02 69.1     1130   prof\n",
       "3 12.77      9271  15.70 63.4     1171   prof\n",
       "4 11.42        NA   9.11 56.8     1175   prof\n",
       "5 14.62      8403  11.68 73.5     2111   prof\n",
       "6 15.64     11030   5.13 77.6     2113   NA  "
      ]
     },
     "metadata": {},
     "output_type": "display_data"
    }
   ],
   "source": [
    "Prestige_missing<- read.csv(\"Prestige_miss.csv\")\n",
    "myData <- Prestige_missing\n",
    "head(myData)"
   ]
  },
  {
   "cell_type": "code",
   "execution_count": 43,
   "metadata": {
    "collapsed": true
   },
   "outputs": [],
   "source": [
    "library(Hmisc)\n",
    "myData$education <- impute(myData$education, mean)\n",
    "myData$type <- impute(myData$type,mode)"
   ]
  },
  {
   "cell_type": "markdown",
   "metadata": {},
   "source": [
    "Better and more accurate way to predict the missing values using other features as explanatory variable. mice package is a convenient way to do so.\n",
    "\n",
    "- mice function performs five different imputation by default each using different predictive modeling method. "
   ]
  },
  {
   "cell_type": "code",
   "execution_count": 45,
   "metadata": {},
   "outputs": [
    {
     "name": "stdout",
     "output_type": "stream",
     "text": [
      "\n",
      " iter imp variable\n",
      "  1   1  education  income  women  prestige  census  type\n",
      "  1   2  education  income  women  prestige  census  type\n",
      "  1   3  education  income  women  prestige  census  type\n",
      "  1   4  education  income  women  prestige  census  type\n",
      "  1   5  education  income  women  prestige  census  type\n",
      "  2   1  education  income  women  prestige  census  type\n",
      "  2   2  education  income  women  prestige  census  type\n",
      "  2   3  education  income  women  prestige  census  type\n",
      "  2   4  education  income  women  prestige  census  type\n",
      "  2   5  education  income  women  prestige  census  type\n",
      "  3   1  education  income  women  prestige  census  type\n",
      "  3   2  education  income  women  prestige  census  type\n",
      "  3   3  education  income  women  prestige  census  type\n",
      "  3   4  education  income  women  prestige  census  type\n",
      "  3   5  education  income  women  prestige  census  type\n",
      "  4   1  education  income  women  prestige  census  type\n",
      "  4   2  education  income  women  prestige  census  type\n",
      "  4   3  education  income  women  prestige  census  type\n",
      "  4   4  education  income  women  prestige  census  type\n",
      "  4   5  education  income  women  prestige  census  type\n",
      "  5   1  education  income  women  prestige  census  type\n",
      "  5   2  education  income  women  prestige  census  type\n",
      "  5   3  education  income  women  prestige  census  type\n",
      "  5   4  education  income  women  prestige  census  type\n",
      "  5   5  education  income  women  prestige  census  type\n"
     ]
    },
    {
     "data": {
      "text/plain": [
       "Multiply imputed data set\n",
       "Call:\n",
       "mice(data = myData)\n",
       "Number of multiple imputations:  5\n",
       "Missing cells per column:\n",
       "education    income     women  prestige    census      type \n",
       "        7         5         6         3         5         8 \n",
       "Imputation methods:\n",
       "education    income     women  prestige    census      type \n",
       "    \"pmm\"     \"pmm\"     \"pmm\"     \"pmm\"     \"pmm\" \"polyreg\" \n",
       "VisitSequence:\n",
       "education    income     women  prestige    census      type \n",
       "        1         2         3         4         5         6 \n",
       "PredictorMatrix:\n",
       "          education income women prestige census type\n",
       "education         0      1     1        1      1    1\n",
       "income            1      0     1        1      1    1\n",
       "women             1      1     0        1      1    1\n",
       "prestige          1      1     1        0      1    1\n",
       "census            1      1     1        1      0    1\n",
       "type              1      1     1        1      1    0\n",
       "Random generator seed value:  NA "
      ]
     },
     "metadata": {},
     "output_type": "display_data"
    }
   ],
   "source": [
    "library(mice)\n",
    "myData<-Prestige_missing\n",
    "micemod <- mice(myData)"
   ]
  },
  {
   "cell_type": "code",
   "execution_count": 46,
   "metadata": {},
   "outputs": [
    {
     "data": {
      "text/plain": [
       "Multiply imputed data set\n",
       "Call:\n",
       "mice(data = myData)\n",
       "Number of multiple imputations:  5\n",
       "Missing cells per column:\n",
       "education    income     women  prestige    census      type \n",
       "        7         5         6         3         5         8 \n",
       "Imputation methods:\n",
       "education    income     women  prestige    census      type \n",
       "    \"pmm\"     \"pmm\"     \"pmm\"     \"pmm\"     \"pmm\" \"polyreg\" \n",
       "VisitSequence:\n",
       "education    income     women  prestige    census      type \n",
       "        1         2         3         4         5         6 \n",
       "PredictorMatrix:\n",
       "          education income women prestige census type\n",
       "education         0      1     1        1      1    1\n",
       "income            1      0     1        1      1    1\n",
       "women             1      1     0        1      1    1\n",
       "prestige          1      1     1        0      1    1\n",
       "census            1      1     1        1      0    1\n",
       "type              1      1     1        1      1    0\n",
       "Random generator seed value:  NA "
      ]
     },
     "metadata": {},
     "output_type": "display_data"
    }
   ],
   "source": [
    "micemod\n",
    "#pmm is predictive mean matching"
   ]
  },
  {
   "cell_type": "code",
   "execution_count": 54,
   "metadata": {},
   "outputs": [
    {
     "data": {
      "text/html": [
       "<table>\n",
       "<thead><tr><th scope=col>education</th><th scope=col>income</th><th scope=col>women</th><th scope=col>prestige</th><th scope=col>census</th><th scope=col>type</th></tr></thead>\n",
       "<tbody>\n",
       "\t<tr><td>13.11</td><td>12351</td><td>11.16</td><td>68.8 </td><td>1113 </td><td>prof </td></tr>\n",
       "\t<tr><td>12.26</td><td>25879</td><td> 4.02</td><td>69.1 </td><td>1130 </td><td>prof </td></tr>\n",
       "\t<tr><td>12.77</td><td> 9271</td><td>15.70</td><td>63.4 </td><td>1171 </td><td>prof </td></tr>\n",
       "\t<tr><td>11.42</td><td> 8425</td><td> 9.11</td><td>56.8 </td><td>1175 </td><td>prof </td></tr>\n",
       "\t<tr><td>14.62</td><td> 8403</td><td>11.68</td><td>73.5 </td><td>2111 </td><td>prof </td></tr>\n",
       "\t<tr><td>15.64</td><td>11030</td><td> 5.13</td><td>77.6 </td><td>2113 </td><td>prof </td></tr>\n",
       "</tbody>\n",
       "</table>\n"
      ],
      "text/latex": [
       "\\begin{tabular}{r|llllll}\n",
       " education & income & women & prestige & census & type\\\\\n",
       "\\hline\n",
       "\t 13.11 & 12351 & 11.16 & 68.8  & 1113  & prof \\\\\n",
       "\t 12.26 & 25879 &  4.02 & 69.1  & 1130  & prof \\\\\n",
       "\t 12.77 &  9271 & 15.70 & 63.4  & 1171  & prof \\\\\n",
       "\t 11.42 &  8425 &  9.11 & 56.8  & 1175  & prof \\\\\n",
       "\t 14.62 &  8403 & 11.68 & 73.5  & 2111  & prof \\\\\n",
       "\t 15.64 & 11030 &  5.13 & 77.6  & 2113  & prof \\\\\n",
       "\\end{tabular}\n"
      ],
      "text/markdown": [
       "\n",
       "education | income | women | prestige | census | type | \n",
       "|---|---|---|---|---|---|\n",
       "| 13.11 | 12351 | 11.16 | 68.8  | 1113  | prof  | \n",
       "| 12.26 | 25879 |  4.02 | 69.1  | 1130  | prof  | \n",
       "| 12.77 |  9271 | 15.70 | 63.4  | 1171  | prof  | \n",
       "| 11.42 |  8425 |  9.11 | 56.8  | 1175  | prof  | \n",
       "| 14.62 |  8403 | 11.68 | 73.5  | 2111  | prof  | \n",
       "| 15.64 | 11030 |  5.13 | 77.6  | 2113  | prof  | \n",
       "\n",
       "\n"
      ],
      "text/plain": [
       "  education income women prestige census type\n",
       "1 13.11     12351  11.16 68.8     1113   prof\n",
       "2 12.26     25879   4.02 69.1     1130   prof\n",
       "3 12.77      9271  15.70 63.4     1171   prof\n",
       "4 11.42      8425   9.11 56.8     1175   prof\n",
       "5 14.62      8403  11.68 73.5     2111   prof\n",
       "6 15.64     11030   5.13 77.6     2113   prof"
      ]
     },
     "metadata": {},
     "output_type": "display_data"
    }
   ],
   "source": [
    "myData1<- complete(micemod,1)\n",
    "myDate2<- complete(micemod,2)\n",
    "head(myData1)"
   ]
  },
  {
   "cell_type": "markdown",
   "metadata": {},
   "source": [
    "# Modeling \n",
    "\n",
    "## Linear Regression"
   ]
  },
  {
   "cell_type": "code",
   "execution_count": 51,
   "metadata": {},
   "outputs": [],
   "source": [
    "data(Prestige , package = 'carData')"
   ]
  },
  {
   "cell_type": "code",
   "execution_count": 53,
   "metadata": {},
   "outputs": [
    {
     "data": {
      "text/html": [
       "<ol class=list-inline>\n",
       "\t<li>32</li>\n",
       "\t<li>27</li>\n",
       "\t<li>56</li>\n",
       "\t<li>6</li>\n",
       "\t<li>46</li>\n",
       "\t<li>47</li>\n",
       "\t<li>78</li>\n",
       "\t<li>36</li>\n",
       "\t<li>52</li>\n",
       "\t<li>16</li>\n",
       "\t<li>58</li>\n",
       "\t<li>81</li>\n",
       "\t<li>26</li>\n",
       "\t<li>95</li>\n",
       "\t<li>68</li>\n",
       "\t<li>59</li>\n",
       "\t<li>18</li>\n",
       "\t<li>31</li>\n",
       "\t<li>85</li>\n",
       "\t<li>92</li>\n",
       "\t<li>44</li>\n",
       "\t<li>83</li>\n",
       "\t<li>82</li>\n",
       "\t<li>60</li>\n",
       "\t<li>33</li>\n",
       "\t<li>14</li>\n",
       "\t<li>87</li>\n",
       "\t<li>67</li>\n",
       "\t<li>41</li>\n",
       "\t<li>21</li>\n",
       "\t<li>89</li>\n",
       "\t<li>66</li>\n",
       "\t<li>25</li>\n",
       "\t<li>71</li>\n",
       "\t<li>48</li>\n",
       "\t<li>79</li>\n",
       "\t<li>12</li>\n",
       "\t<li>74</li>\n",
       "\t<li>64</li>\n",
       "\t<li>9</li>\n",
       "\t<li>73</li>\n",
       "\t<li>53</li>\n",
       "\t<li>97</li>\n",
       "\t<li>49</li>\n",
       "\t<li>35</li>\n",
       "\t<li>29</li>\n",
       "\t<li>80</li>\n",
       "\t<li>76</li>\n",
       "\t<li>69</li>\n",
       "\t<li>17</li>\n",
       "\t<li>86</li>\n",
       "\t<li>11</li>\n",
       "\t<li>54</li>\n",
       "\t<li>77</li>\n",
       "\t<li>57</li>\n",
       "\t<li>50</li>\n",
       "\t<li>99</li>\n",
       "\t<li>51</li>\n",
       "\t<li>101</li>\n",
       "\t<li>10</li>\n",
       "\t<li>20</li>\n",
       "\t<li>100</li>\n",
       "\t<li>39</li>\n",
       "\t<li>65</li>\n",
       "\t<li>61</li>\n",
       "\t<li>55</li>\n",
       "\t<li>38</li>\n",
       "\t<li>93</li>\n",
       "\t<li>63</li>\n",
       "\t<li>23</li>\n",
       "\t<li>37</li>\n",
       "</ol>\n"
      ],
      "text/latex": [
       "\\begin{enumerate*}\n",
       "\\item 32\n",
       "\\item 27\n",
       "\\item 56\n",
       "\\item 6\n",
       "\\item 46\n",
       "\\item 47\n",
       "\\item 78\n",
       "\\item 36\n",
       "\\item 52\n",
       "\\item 16\n",
       "\\item 58\n",
       "\\item 81\n",
       "\\item 26\n",
       "\\item 95\n",
       "\\item 68\n",
       "\\item 59\n",
       "\\item 18\n",
       "\\item 31\n",
       "\\item 85\n",
       "\\item 92\n",
       "\\item 44\n",
       "\\item 83\n",
       "\\item 82\n",
       "\\item 60\n",
       "\\item 33\n",
       "\\item 14\n",
       "\\item 87\n",
       "\\item 67\n",
       "\\item 41\n",
       "\\item 21\n",
       "\\item 89\n",
       "\\item 66\n",
       "\\item 25\n",
       "\\item 71\n",
       "\\item 48\n",
       "\\item 79\n",
       "\\item 12\n",
       "\\item 74\n",
       "\\item 64\n",
       "\\item 9\n",
       "\\item 73\n",
       "\\item 53\n",
       "\\item 97\n",
       "\\item 49\n",
       "\\item 35\n",
       "\\item 29\n",
       "\\item 80\n",
       "\\item 76\n",
       "\\item 69\n",
       "\\item 17\n",
       "\\item 86\n",
       "\\item 11\n",
       "\\item 54\n",
       "\\item 77\n",
       "\\item 57\n",
       "\\item 50\n",
       "\\item 99\n",
       "\\item 51\n",
       "\\item 101\n",
       "\\item 10\n",
       "\\item 20\n",
       "\\item 100\n",
       "\\item 39\n",
       "\\item 65\n",
       "\\item 61\n",
       "\\item 55\n",
       "\\item 38\n",
       "\\item 93\n",
       "\\item 63\n",
       "\\item 23\n",
       "\\item 37\n",
       "\\end{enumerate*}\n"
      ],
      "text/markdown": [
       "1. 32\n",
       "2. 27\n",
       "3. 56\n",
       "4. 6\n",
       "5. 46\n",
       "6. 47\n",
       "7. 78\n",
       "8. 36\n",
       "9. 52\n",
       "10. 16\n",
       "11. 58\n",
       "12. 81\n",
       "13. 26\n",
       "14. 95\n",
       "15. 68\n",
       "16. 59\n",
       "17. 18\n",
       "18. 31\n",
       "19. 85\n",
       "20. 92\n",
       "21. 44\n",
       "22. 83\n",
       "23. 82\n",
       "24. 60\n",
       "25. 33\n",
       "26. 14\n",
       "27. 87\n",
       "28. 67\n",
       "29. 41\n",
       "30. 21\n",
       "31. 89\n",
       "32. 66\n",
       "33. 25\n",
       "34. 71\n",
       "35. 48\n",
       "36. 79\n",
       "37. 12\n",
       "38. 74\n",
       "39. 64\n",
       "40. 9\n",
       "41. 73\n",
       "42. 53\n",
       "43. 97\n",
       "44. 49\n",
       "45. 35\n",
       "46. 29\n",
       "47. 80\n",
       "48. 76\n",
       "49. 69\n",
       "50. 17\n",
       "51. 86\n",
       "52. 11\n",
       "53. 54\n",
       "54. 77\n",
       "55. 57\n",
       "56. 50\n",
       "57. 99\n",
       "58. 51\n",
       "59. 101\n",
       "60. 10\n",
       "61. 20\n",
       "62. 100\n",
       "63. 39\n",
       "64. 65\n",
       "65. 61\n",
       "66. 55\n",
       "67. 38\n",
       "68. 93\n",
       "69. 63\n",
       "70. 23\n",
       "71. 37\n",
       "\n",
       "\n"
      ],
      "text/plain": [
       " [1]  32  27  56   6  46  47  78  36  52  16  58  81  26  95  68  59  18  31  85\n",
       "[20]  92  44  83  82  60  33  14  87  67  41  21  89  66  25  71  48  79  12  74\n",
       "[39]  64   9  73  53  97  49  35  29  80  76  69  17  86  11  54  77  57  50  99\n",
       "[58]  51 101  10  20 100  39  65  61  55  38  93  63  23  37"
      ]
     },
     "metadata": {},
     "output_type": "display_data"
    },
    {
     "data": {
      "text/html": [
       "<ol class=list-inline>\n",
       "\t<li>71</li>\n",
       "\t<li>6</li>\n",
       "</ol>\n"
      ],
      "text/latex": [
       "\\begin{enumerate*}\n",
       "\\item 71\n",
       "\\item 6\n",
       "\\end{enumerate*}\n"
      ],
      "text/markdown": [
       "1. 71\n",
       "2. 6\n",
       "\n",
       "\n"
      ],
      "text/plain": [
       "[1] 71  6"
      ]
     },
     "metadata": {},
     "output_type": "display_data"
    },
    {
     "data": {
      "text/html": [
       "<ol class=list-inline>\n",
       "\t<li>31</li>\n",
       "\t<li>6</li>\n",
       "</ol>\n"
      ],
      "text/latex": [
       "\\begin{enumerate*}\n",
       "\\item 31\n",
       "\\item 6\n",
       "\\end{enumerate*}\n"
      ],
      "text/markdown": [
       "1. 31\n",
       "2. 6\n",
       "\n",
       "\n"
      ],
      "text/plain": [
       "[1] 31  6"
      ]
     },
     "metadata": {},
     "output_type": "display_data"
    }
   ],
   "source": [
    "set.seed(100)\n",
    "train_rows<-sample(1:nrow(Prestige), size=0.7*nrow(Prestige))\n",
    "train_rows\n",
    "training<-Prestige[train_rows,]\n",
    "test<-Prestige[-train_rows,]\n",
    "dim(training)\n",
    "dim(test)"
   ]
  },
  {
   "cell_type": "code",
   "execution_count": 56,
   "metadata": {},
   "outputs": [
    {
     "data": {
      "text/plain": [
       "\n",
       "Call:\n",
       "lm(formula = prestige ~ income + education, data = training)\n",
       "\n",
       "Coefficients:\n",
       "(Intercept)       income    education  \n",
       "  -9.850994     0.001585     4.219462  \n"
      ]
     },
     "metadata": {},
     "output_type": "display_data"
    }
   ],
   "source": [
    "lmmod<- lm(prestige ~ income+education, data=training)\n",
    "lmmod"
   ]
  },
  {
   "cell_type": "markdown",
   "metadata": {},
   "source": [
    "** Prestige = -9.85 + 0.0015 X income + 4.219 X education **"
   ]
  },
  {
   "cell_type": "code",
   "execution_count": 60,
   "metadata": {},
   "outputs": [
    {
     "data": {
      "text/html": [
       "<ol class=list-inline>\n",
       "\t<li>'coefficients'</li>\n",
       "\t<li>'residuals'</li>\n",
       "\t<li>'effects'</li>\n",
       "\t<li>'rank'</li>\n",
       "\t<li>'fitted.values'</li>\n",
       "\t<li>'assign'</li>\n",
       "\t<li>'qr'</li>\n",
       "\t<li>'df.residual'</li>\n",
       "\t<li>'xlevels'</li>\n",
       "\t<li>'call'</li>\n",
       "\t<li>'terms'</li>\n",
       "\t<li>'model'</li>\n",
       "</ol>\n"
      ],
      "text/latex": [
       "\\begin{enumerate*}\n",
       "\\item 'coefficients'\n",
       "\\item 'residuals'\n",
       "\\item 'effects'\n",
       "\\item 'rank'\n",
       "\\item 'fitted.values'\n",
       "\\item 'assign'\n",
       "\\item 'qr'\n",
       "\\item 'df.residual'\n",
       "\\item 'xlevels'\n",
       "\\item 'call'\n",
       "\\item 'terms'\n",
       "\\item 'model'\n",
       "\\end{enumerate*}\n"
      ],
      "text/markdown": [
       "1. 'coefficients'\n",
       "2. 'residuals'\n",
       "3. 'effects'\n",
       "4. 'rank'\n",
       "5. 'fitted.values'\n",
       "6. 'assign'\n",
       "7. 'qr'\n",
       "8. 'df.residual'\n",
       "9. 'xlevels'\n",
       "10. 'call'\n",
       "11. 'terms'\n",
       "12. 'model'\n",
       "\n",
       "\n"
      ],
      "text/plain": [
       " [1] \"coefficients\"  \"residuals\"     \"effects\"       \"rank\"         \n",
       " [5] \"fitted.values\" \"assign\"        \"qr\"            \"df.residual\"  \n",
       " [9] \"xlevels\"       \"call\"          \"terms\"         \"model\"        "
      ]
     },
     "metadata": {},
     "output_type": "display_data"
    },
    {
     "data": {
      "text/html": [
       "<strong>$coefficients</strong> = <dl class=dl-horizontal>\n",
       "\t<dt>(Intercept)</dt>\n",
       "\t\t<dd>-9.8509937373784</dd>\n",
       "\t<dt>income</dt>\n",
       "\t\t<dd>0.00158487383933559</dd>\n",
       "\t<dt>education</dt>\n",
       "\t\t<dd>4.21946196036573</dd>\n",
       "</dl>\n"
      ],
      "text/latex": [
       "\\textbf{\\$coefficients} = \\begin{description*}\n",
       "\\item[(Intercept)] -9.8509937373784\n",
       "\\item[income] 0.00158487383933559\n",
       "\\item[education] 4.21946196036573\n",
       "\\end{description*}\n"
      ],
      "text/markdown": [
       "**$coefficients** = (Intercept)\n",
       ":   -9.8509937373784income\n",
       ":   0.00158487383933559education\n",
       ":   4.21946196036573\n",
       "\n"
      ],
      "text/plain": [
       "$coefficients\n",
       " (Intercept)       income    education \n",
       "-9.850993737  0.001584874  4.219461960 \n"
      ]
     },
     "metadata": {},
     "output_type": "display_data"
    }
   ],
   "source": [
    "names(lmmod)\n",
    "lmmod[1]\n"
   ]
  },
  {
   "cell_type": "code",
   "execution_count": 62,
   "metadata": {},
   "outputs": [
    {
     "data": {
      "text/plain": [
       "\n",
       "Call:\n",
       "lm(formula = prestige ~ income + education, data = training)\n",
       "\n",
       "Residuals:\n",
       "     Min       1Q   Median       3Q      Max \n",
       "-17.3951  -5.0914  -0.4126   5.6436  19.3162 \n",
       "\n",
       "Coefficients:\n",
       "              Estimate Std. Error t value Pr(>|t|)    \n",
       "(Intercept) -9.8509937  4.2445492  -2.321   0.0233 *  \n",
       "income       0.0015849  0.0003689   4.296 5.67e-05 ***\n",
       "education    4.2194620  0.4787222   8.814 7.32e-13 ***\n",
       "---\n",
       "Signif. codes:  0 '***' 0.001 '**' 0.01 '*' 0.05 '.' 0.1 ' ' 1\n",
       "\n",
       "Residual standard error: 8.341 on 68 degrees of freedom\n",
       "Multiple R-squared:  0.7651,\tAdjusted R-squared:  0.7582 \n",
       "F-statistic: 110.8 on 2 and 68 DF,  p-value: < 2.2e-16\n"
      ]
     },
     "metadata": {},
     "output_type": "display_data"
    }
   ],
   "source": [
    "summary(lmmod)"
   ]
  },
  {
   "cell_type": "markdown",
   "metadata": {},
   "source": [
    "** Tidy Result **"
   ]
  },
  {
   "cell_type": "code",
   "execution_count": 63,
   "metadata": {},
   "outputs": [
    {
     "data": {
      "text/html": [
       "<table>\n",
       "<thead><tr><th scope=col>term</th><th scope=col>estimate</th><th scope=col>std.error</th><th scope=col>statistic</th><th scope=col>p.value</th></tr></thead>\n",
       "<tbody>\n",
       "\t<tr><td>(Intercept) </td><td>-9.850993737</td><td>4.244549170 </td><td>-2.320857   </td><td>2.330063e-02</td></tr>\n",
       "\t<tr><td>income      </td><td> 0.001584874</td><td>0.000368921 </td><td> 4.295970   </td><td>5.666474e-05</td></tr>\n",
       "\t<tr><td>education   </td><td> 4.219461960</td><td>0.478722171 </td><td> 8.814010   </td><td>7.317610e-13</td></tr>\n",
       "</tbody>\n",
       "</table>\n"
      ],
      "text/latex": [
       "\\begin{tabular}{r|lllll}\n",
       " term & estimate & std.error & statistic & p.value\\\\\n",
       "\\hline\n",
       "\t (Intercept)  & -9.850993737 & 4.244549170  & -2.320857    & 2.330063e-02\\\\\n",
       "\t income       &  0.001584874 & 0.000368921  &  4.295970    & 5.666474e-05\\\\\n",
       "\t education    &  4.219461960 & 0.478722171  &  8.814010    & 7.317610e-13\\\\\n",
       "\\end{tabular}\n"
      ],
      "text/markdown": [
       "\n",
       "term | estimate | std.error | statistic | p.value | \n",
       "|---|---|---|\n",
       "| (Intercept)  | -9.850993737 | 4.244549170  | -2.320857    | 2.330063e-02 | \n",
       "| income       |  0.001584874 | 0.000368921  |  4.295970    | 5.666474e-05 | \n",
       "| education    |  4.219461960 | 0.478722171  |  8.814010    | 7.317610e-13 | \n",
       "\n",
       "\n"
      ],
      "text/plain": [
       "  term        estimate     std.error   statistic p.value     \n",
       "1 (Intercept) -9.850993737 4.244549170 -2.320857 2.330063e-02\n",
       "2 income       0.001584874 0.000368921  4.295970 5.666474e-05\n",
       "3 education    4.219461960 0.478722171  8.814010 7.317610e-13"
      ]
     },
     "metadata": {},
     "output_type": "display_data"
    }
   ],
   "source": [
    "library(broom)\n",
    "lmmod_df<- tidy(lmmod)\n",
    "lmmod_df"
   ]
  },
  {
   "cell_type": "code",
   "execution_count": 64,
   "metadata": {},
   "outputs": [
    {
     "data": {
      "text/html": [
       "<dl class=dl-horizontal>\n",
       "\t<dt>gov.administrators</dt>\n",
       "\t\t<dd>65.0409293526502</dd>\n",
       "\t<dt>general.managers</dt>\n",
       "\t\t<dd>82.8945599848712</dd>\n",
       "\t<dt>accountants</dt>\n",
       "\t\t<dd>58.7249008609722</dd>\n",
       "\t<dt>purchasing.officers</dt>\n",
       "\t\t<dd>52.3851684357083</dd>\n",
       "\t<dt>chemists</dt>\n",
       "\t\t<dd>65.1552349951056</dd>\n",
       "\t<dt>biologists</dt>\n",
       "\t\t<dd>66.9085754097738</dd>\n",
       "\t<dt>architects</dt>\n",
       "\t\t<dd>77.7440671171784</dd>\n",
       "\t<dt>computer.programers</dt>\n",
       "\t\t<dd>61.856727270882</dd>\n",
       "\t<dt>psychologists</dt>\n",
       "\t\t<dd>62.4764707937535</dd>\n",
       "\t<dt>vocational.counsellors</dt>\n",
       "\t\t<dd>69.5729120401344</dd>\n",
       "\t<dt>primary.school.teachers</dt>\n",
       "\t\t<dd>56.5694456073703</dd>\n",
       "\t<dt>physicians</dt>\n",
       "\t\t<dd>97.6016062759638</dd>\n",
       "\t<dt>nursing.aides</dt>\n",
       "\t\t<dd>35.5462071181623</dd>\n",
       "\t<dt>pharmacists</dt>\n",
       "\t\t<dd>70.8604265717333</dd>\n",
       "\t<dt>athletes</dt>\n",
       "\t\t<dd>51.4251258147934</dd>\n",
       "\t<dt>shipping.clerks</dt>\n",
       "\t\t<dd>36.3870567882521</dd>\n",
       "\t<dt>receptionsts</dt>\n",
       "\t\t<dd>41.3295853129718</dd>\n",
       "\t<dt>mail.carriers</dt>\n",
       "\t\t<dd>37.7866852657721</dd>\n",
       "\t<dt>telephone.operators</dt>\n",
       "\t\t<dd>39.5053376722052</dd>\n",
       "\t<dt>funeral.directors</dt>\n",
       "\t\t<dd>47.2200914254191</dd>\n",
       "\t<dt>bakers</dt>\n",
       "\t\t<dd>28.6186346951494</dd>\n",
       "\t<dt>slaughterers.2</dt>\n",
       "\t\t<dd>30.5224379309647</dd>\n",
       "\t<dt>textile.labourers</dt>\n",
       "\t\t<dd>24.1114652055712</dd>\n",
       "\t<dt>sewing.mach.operators</dt>\n",
       "\t\t<dd>21.5813093903434</dd>\n",
       "\t<dt>electrical.linemen</dt>\n",
       "\t\t<dd>41.5149478518462</dd>\n",
       "\t<dt>construction.foremen</dt>\n",
       "\t\t<dd>38.9910525093353</dd>\n",
       "\t<dt>carpenters</dt>\n",
       "\t\t<dd>27.7459295029917</dd>\n",
       "\t<dt>plumbers</dt>\n",
       "\t\t<dd>36.2771303513851</dd>\n",
       "\t<dt>pilots</dt>\n",
       "\t\t<dd>64.1607542298661</dd>\n",
       "\t<dt>bus.drivers</dt>\n",
       "\t\t<dd>30.9475962165784</dd>\n",
       "\t<dt>bookbinders</dt>\n",
       "\t\t<dd>31.9578947006254</dd>\n",
       "</dl>\n"
      ],
      "text/latex": [
       "\\begin{description*}\n",
       "\\item[gov.administrators] 65.0409293526502\n",
       "\\item[general.managers] 82.8945599848712\n",
       "\\item[accountants] 58.7249008609722\n",
       "\\item[purchasing.officers] 52.3851684357083\n",
       "\\item[chemists] 65.1552349951056\n",
       "\\item[biologists] 66.9085754097738\n",
       "\\item[architects] 77.7440671171784\n",
       "\\item[computer.programers] 61.856727270882\n",
       "\\item[psychologists] 62.4764707937535\n",
       "\\item[vocational.counsellors] 69.5729120401344\n",
       "\\item[primary.school.teachers] 56.5694456073703\n",
       "\\item[physicians] 97.6016062759638\n",
       "\\item[nursing.aides] 35.5462071181623\n",
       "\\item[pharmacists] 70.8604265717333\n",
       "\\item[athletes] 51.4251258147934\n",
       "\\item[shipping.clerks] 36.3870567882521\n",
       "\\item[receptionsts] 41.3295853129718\n",
       "\\item[mail.carriers] 37.7866852657721\n",
       "\\item[telephone.operators] 39.5053376722052\n",
       "\\item[funeral.directors] 47.2200914254191\n",
       "\\item[bakers] 28.6186346951494\n",
       "\\item[slaughterers.2] 30.5224379309647\n",
       "\\item[textile.labourers] 24.1114652055712\n",
       "\\item[sewing.mach.operators] 21.5813093903434\n",
       "\\item[electrical.linemen] 41.5149478518462\n",
       "\\item[construction.foremen] 38.9910525093353\n",
       "\\item[carpenters] 27.7459295029917\n",
       "\\item[plumbers] 36.2771303513851\n",
       "\\item[pilots] 64.1607542298661\n",
       "\\item[bus.drivers] 30.9475962165784\n",
       "\\item[bookbinders] 31.9578947006254\n",
       "\\end{description*}\n"
      ],
      "text/markdown": [
       "gov.administrators\n",
       ":   65.0409293526502general.managers\n",
       ":   82.8945599848712accountants\n",
       ":   58.7249008609722purchasing.officers\n",
       ":   52.3851684357083chemists\n",
       ":   65.1552349951056biologists\n",
       ":   66.9085754097738architects\n",
       ":   77.7440671171784computer.programers\n",
       ":   61.856727270882psychologists\n",
       ":   62.4764707937535vocational.counsellors\n",
       ":   69.5729120401344primary.school.teachers\n",
       ":   56.5694456073703physicians\n",
       ":   97.6016062759638nursing.aides\n",
       ":   35.5462071181623pharmacists\n",
       ":   70.8604265717333athletes\n",
       ":   51.4251258147934shipping.clerks\n",
       ":   36.3870567882521receptionsts\n",
       ":   41.3295853129718mail.carriers\n",
       ":   37.7866852657721telephone.operators\n",
       ":   39.5053376722052funeral.directors\n",
       ":   47.2200914254191bakers\n",
       ":   28.6186346951494slaughterers.2\n",
       ":   30.5224379309647textile.labourers\n",
       ":   24.1114652055712sewing.mach.operators\n",
       ":   21.5813093903434electrical.linemen\n",
       ":   41.5149478518462construction.foremen\n",
       ":   38.9910525093353carpenters\n",
       ":   27.7459295029917plumbers\n",
       ":   36.2771303513851pilots\n",
       ":   64.1607542298661bus.drivers\n",
       ":   30.9475962165784bookbinders\n",
       ":   31.9578947006254\n",
       "\n"
      ],
      "text/plain": [
       "     gov.administrators        general.managers             accountants \n",
       "               65.04093                82.89456                58.72490 \n",
       "    purchasing.officers                chemists              biologists \n",
       "               52.38517                65.15523                66.90858 \n",
       "             architects     computer.programers           psychologists \n",
       "               77.74407                61.85673                62.47647 \n",
       " vocational.counsellors primary.school.teachers              physicians \n",
       "               69.57291                56.56945                97.60161 \n",
       "          nursing.aides             pharmacists                athletes \n",
       "               35.54621                70.86043                51.42513 \n",
       "        shipping.clerks            receptionsts           mail.carriers \n",
       "               36.38706                41.32959                37.78669 \n",
       "    telephone.operators       funeral.directors                  bakers \n",
       "               39.50534                47.22009                28.61863 \n",
       "         slaughterers.2       textile.labourers   sewing.mach.operators \n",
       "               30.52244                24.11147                21.58131 \n",
       "     electrical.linemen    construction.foremen              carpenters \n",
       "               41.51495                38.99105                27.74593 \n",
       "               plumbers                  pilots             bus.drivers \n",
       "               36.27713                64.16075                30.94760 \n",
       "            bookbinders \n",
       "               31.95789 "
      ]
     },
     "metadata": {},
     "output_type": "display_data"
    }
   ],
   "source": [
    "predicted <- predict(lmmod,newdata = test)\n",
    "predicted"
   ]
  },
  {
   "cell_type": "markdown",
   "metadata": {},
   "source": [
    "Predicting Accuracy"
   ]
  },
  {
   "cell_type": "code",
   "execution_count": 65,
   "metadata": {},
   "outputs": [
    {
     "data": {
      "text/html": [
       "47.301161837032"
      ],
      "text/latex": [
       "47.301161837032"
      ],
      "text/markdown": [
       "47.301161837032"
      ],
      "text/plain": [
       "[1] 47.30116"
      ]
     },
     "metadata": {},
     "output_type": "display_data"
    },
    {
     "data": {
      "text/html": [
       "0.115421442788464"
      ],
      "text/latex": [
       "0.115421442788464"
      ],
      "text/markdown": [
       "0.115421442788464"
      ],
      "text/plain": [
       "[1] 0.1154214"
      ]
     },
     "metadata": {},
     "output_type": "display_data"
    }
   ],
   "source": [
    "# MSE : Mean Square Error\n",
    "mean((test$prestige-predicted)^2)\n",
    "\n",
    "# MAPE : Mean Absolute Percentage Error\n",
    "mean(abs(test$prestige-predicted)/test$prestige)"
   ]
  },
  {
   "cell_type": "code",
   "execution_count": 69,
   "metadata": {},
   "outputs": [],
   "source": [
    "#DMwR::regr.eval(training$prestige, predicted)"
   ]
  },
  {
   "cell_type": "code",
   "execution_count": null,
   "metadata": {
    "collapsed": true
   },
   "outputs": [],
   "source": []
  }
 ],
 "metadata": {
  "kernelspec": {
   "display_name": "R",
   "language": "R",
   "name": "ir"
  },
  "language_info": {
   "codemirror_mode": "r",
   "file_extension": ".r",
   "mimetype": "text/x-r-source",
   "name": "R",
   "pygments_lexer": "r",
   "version": "3.4.4"
  }
 },
 "nbformat": 4,
 "nbformat_minor": 2
}
